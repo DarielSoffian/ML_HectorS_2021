{
 "cells": [
  {
   "cell_type": "code",
   "execution_count": 1,
   "id": "59adb0f0-8525-4251-9053-efecf4389593",
   "metadata": {},
   "outputs": [],
   "source": [
    "import numpy as np\n",
    "from sklearn.naive_bayes import BernoulliNB \n",
    "from sklearn.metrics import accuracy_score\n",
    "import matplotlib.pyplot as plt"
   ]
  },
  {
   "cell_type": "markdown",
   "id": "c6cadd75-5cde-4966-b906-752f219045e1",
   "metadata": {},
   "source": [
    "# Ejercicios de Naive Bayes Classifiers"
   ]
  },
  {
   "cell_type": "code",
   "execution_count": 2,
   "id": "dcd052c3-c476-49ed-9c3f-f6e9fe5bc0ca",
   "metadata": {},
   "outputs": [],
   "source": [
    "#El ejercicio del libro\n",
    "X = np.array([[0, 1, 0, 1],\n",
    "[1, 0, 1, 1],\n",
    "[0, 0, 0, 1],\n",
    "[1, 0, 1, 0]])\n",
    "y = np.array([0, 1, 0, 1])\n"
   ]
  },
  {
   "cell_type": "code",
   "execution_count": 3,
   "id": "f0d91e57-8eb4-4777-9df8-aeb10f0880ec",
   "metadata": {},
   "outputs": [
    {
     "name": "stdout",
     "output_type": "stream",
     "text": [
      "Feature counts:\n",
      "{0: array([0, 1, 0, 2]), 1: array([2, 0, 2, 1])}\n"
     ]
    }
   ],
   "source": [
    "counts = {}\n",
    "for label in np.unique(y):\n",
    "# itera sobre cada una de las clases \n",
    "# identifica los arrayz que inicion con el 0 o con el 1 y los suma entre si y los guarda en la clase respectiva \n",
    "    counts[label] = X[y == label].sum(axis=0)\n",
    "print(\"Feature counts:\\n{}\".format(counts))\n"
   ]
  },
  {
   "cell_type": "markdown",
   "id": "703ada4d-b1e8-450e-b1a3-db9b0f01e678",
   "metadata": {},
   "source": [
    "# Gaussian Naive Bayes\n"
   ]
  },
  {
   "cell_type": "code",
   "execution_count": 4,
   "id": "3d2265f4-ec06-4015-b963-69baa89c8b11",
   "metadata": {},
   "outputs": [],
   "source": [
    "import numpy as np\n",
    "from sklearn.naive_bayes import BernoulliNB # importas del metodo \n",
    "from sklearn.metrics import accuracy_score\n",
    "import matplotlib.pyplot as plt"
   ]
  },
  {
   "cell_type": "code",
   "execution_count": 5,
   "id": "4157b84d-bd08-4da4-9a61-99dcee567ecf",
   "metadata": {},
   "outputs": [],
   "source": [
    "import numpy as np\n",
    "import matplotlib.pyplot as plt\n",
    "import seaborn as sns; sns.set()"
   ]
  },
  {
   "cell_type": "code",
   "execution_count": 6,
   "id": "13818e94-8261-4ab6-894d-07053a8c94ba",
   "metadata": {},
   "outputs": [
    {
     "data": {
      "image/png": "[encoded data removed]",
      "text/plain": [
       "<Figure size 432x288 with 1 Axes>"
      ]
     },
     "metadata": {},
     "output_type": "display_data"
    }
   ],
   "source": [
    "from sklearn.datasets import make_blobs #cargas los datos llamado make_blobs\n",
    "X, y = make_blobs(100, 2, centers=2, random_state=2, cluster_std=1.5) # con los valores de make_blobs se ponen en X, Y que son nuestros valeres de entrenamiento \n",
    "plt.scatter(X[:, 0], X[:, 1], c=y, s=50, cmap='RdBu'); #Graficas los valores de make_blobs "
   ]
  },
  {
   "cell_type": "code",
   "execution_count": 7,
   "id": "d664c9b5-3196-41b4-8cb9-f6527d2dead1",
   "metadata": {},
   "outputs": [],
   "source": [
    "from sklearn.naive_bayes import GaussianNB #haces el metodo y lo entrenas con X y y\n",
    "model = GaussianNB()\n",
    "model.fit(X, y);"
   ]
  },
  {
   "cell_type": "code",
   "execution_count": 8,
   "id": "fe8dd489-3fc1-468a-a28a-c733b4ec52e8",
   "metadata": {},
   "outputs": [],
   "source": [
    "rng = np.random.RandomState(0) # creas nuevos datos en el rango de los valores demake_blobs\n",
    "Xnew = [-6, -14] + [14, 18] * rng.rand(2000, 2)\n",
    "ynew = model.predict(Xnew) # haces la predicción  de los valores de Xnew"
   ]
  },
  {
   "cell_type": "code",
   "execution_count": 9,
   "id": "5e3c1ad3-8aec-4280-8e93-4fffe4e46fd0",
   "metadata": {},
   "outputs": [
    {
     "data": {
      "text/plain": [
       "array([[0.89, 0.11],\n",
       "       [1.  , 0.  ],\n",
       "       [1.  , 0.  ],\n",
       "       [1.  , 0.  ],\n",
       "       [1.  , 0.  ],\n",
       "       [1.  , 0.  ],\n",
       "       [0.  , 1.  ],\n",
       "       [0.15, 0.85]])"
      ]
     },
     "execution_count": 9,
     "metadata": {},
     "output_type": "execute_result"
    }
   ],
   "source": [
    "yprob = model.predict_proba(Xnew) \n",
    "yprob[-8:].round(2) # te dice cual seria la categoría que pertenece los valores de Xnew (la probabilidad de pertenecer)"
   ]
  },
  {
   "cell_type": "markdown",
   "id": "98634573-9c3c-43af-a312-41d2147f5c86",
   "metadata": {},
   "source": [
    "# Multinomial Naive Bayes\n"
   ]
  },
  {
   "cell_type": "code",
   "execution_count": 10,
   "id": "ea20f71b-e777-4214-aa33-6daa74693441",
   "metadata": {},
   "outputs": [
    {
     "data": {
      "text/plain": [
       "['alt.atheism',\n",
       " 'comp.graphics',\n",
       " 'comp.os.ms-windows.misc',\n",
       " 'comp.sys.ibm.pc.hardware',\n",
       " 'comp.sys.mac.hardware',\n",
       " 'comp.windows.x',\n",
       " 'misc.forsale',\n",
       " 'rec.autos',\n",
       " 'rec.motorcycles',\n",
       " 'rec.sport.baseball',\n",
       " 'rec.sport.hockey',\n",
       " 'sci.crypt',\n",
       " 'sci.electronics',\n",
       " 'sci.med',\n",
       " 'sci.space',\n",
       " 'soc.religion.christian',\n",
       " 'talk.politics.guns',\n",
       " 'talk.politics.mideast',\n",
       " 'talk.politics.misc',\n",
       " 'talk.religion.misc']"
      ]
     },
     "execution_count": 10,
     "metadata": {},
     "output_type": "execute_result"
    }
   ],
   "source": [
    "from sklearn.datasets import fetch_20newsgroups #se carga los textos fetch_20newsgroups\n",
    "\n",
    "data = fetch_20newsgroups()\n",
    "data.target_names"
   ]
  },
  {
   "cell_type": "code",
   "execution_count": 11,
   "id": "4d635d08-3967-4ec6-80bf-e5044a18dd81",
   "metadata": {},
   "outputs": [],
   "source": [
    "categories = ['talk.religion.misc', 'soc.religion.christian', \n",
    "              'sci.space', 'comp.graphics'] # d documento fetch_20newsgroups se tomana las categorías talk.religion.misc', 'soc.religion.christian',  'sci.space', 'comp.graphics'\n",
    "train = fetch_20newsgroups(subset='train', categories=categories) #haces tu conjunto de entrenamiento y test\n",
    "test = fetch_20newsgroups(subset='test', categories=categories)"
   ]
  },
  {
   "cell_type": "code",
   "execution_count": 12,
   "id": "6de46b26-3ab0-420e-a266-dc4397cc7e7c",
   "metadata": {},
   "outputs": [
    {
     "name": "stdout",
     "output_type": "stream",
     "text": [
      "From: dmcgee@uluhe.soest.hawaii.edu (Don McGee)\n",
      "Subject: Federal Hearing\n",
      "Originator: dmcgee@uluhe\n",
      "Organization: School of Ocean and Earth Science and Technology\n",
      "Distribution: usa\n",
      "Lines: 10\n",
      "\n",
      "\n",
      "Fact or rumor....?  Madalyn Murray O'Hare an atheist who eliminated the\n",
      "use of the bible reading and prayer in public schools 15 years ago is now\n",
      "going to appear before the FCC with a petition to stop the reading of the\n",
      "Gospel on the airways of America.  And she is also campaigning to remove\n",
      "Christmas programs, songs, etc from the public schools.  If it is true\n",
      "then mail to Federal Communications Commission 1919 H Street Washington DC\n",
      "20054 expressing your opposition to her request.  Reference Petition number\n",
      "\n",
      "2493.\n",
      "\n"
     ]
    }
   ],
   "source": [
    "print(train.data[5]) #un ejemplo de como se ve un texto "
   ]
  },
  {
   "cell_type": "code",
   "execution_count": 13,
   "id": "8acaf72e-1286-4180-9eda-604cfa426d98",
   "metadata": {},
   "outputs": [],
   "source": [
    "from sklearn.feature_extraction.text import TfidfVectorizer #convertir el contenido de cada cadena en un vector de números\n",
    "from sklearn.naive_bayes import MultinomialNB #llamas el motodo\n",
    "from sklearn.pipeline import make_pipeline #  make_pipeline Se comporta como la composición de funciones \n",
    "\n",
    "model = make_pipeline(TfidfVectorizer(), MultinomialNB()) # pasas los textos a numeros y luego le aplicas el metodo  MultinomialNB"
   ]
  },
  {
   "cell_type": "code",
   "execution_count": 14,
   "id": "663e75e8-5071-476e-b095-4f9c289b1bdb",
   "metadata": {},
   "outputs": [],
   "source": [
    "model.fit(train.data, train.target) #entrenas el metodo \n",
    "labels = model.predict(test.data) # ves como se comporta con el conjunto de prueba "
   ]
  },
  {
   "cell_type": "code",
   "execution_count": 15,
   "id": "9730fe2f-2d60-41ce-b9b7-4c1c4c4e96de",
   "metadata": {},
   "outputs": [
    {
     "data": {
      "image/png": "[encoded data removed]",
      "text/plain": [
       "<Figure size 432x288 with 1 Axes>"
      ]
     },
     "metadata": {},
     "output_type": "display_data"
    }
   ],
   "source": [
    "from sklearn.metrics import confusion_matrix # comparas la predición con la clase a la cual pertenece \n",
    "mat = confusion_matrix(test.target, labels)\n",
    "sns.heatmap(mat.T, square=True, annot=True, fmt='d', cbar=False,\n",
    "            xticklabels=train.target_names, yticklabels=train.target_names)\n",
    "plt.xlabel('true label')\n",
    "plt.ylabel('predicted label');"
   ]
  },
  {
   "cell_type": "code",
   "execution_count": 16,
   "id": "ab773682-a127-43cb-b10a-efc5a61974c9",
   "metadata": {},
   "outputs": [],
   "source": [
    "#haces una funcion para decir a que clase pertenece el Strings que le pases \n",
    "def predict_category(s, train=train, model=model):\n",
    "    pred = model.predict([s])\n",
    "    return train.target_names[pred[0]]"
   ]
  },
  {
   "cell_type": "code",
   "execution_count": 17,
   "id": "c2f6afa1-6d9e-40a1-8869-7a05f08d245f",
   "metadata": {},
   "outputs": [
    {
     "data": {
      "text/plain": [
       "'soc.religion.christian'"
      ]
     },
     "execution_count": 17,
     "metadata": {},
     "output_type": "execute_result"
    }
   ],
   "source": [
    "#se implementa la función \n",
    "predict_category('discussing islam vs atheism')\n"
   ]
  },
  {
   "cell_type": "code",
   "execution_count": 18,
   "id": "b84787c4-01f6-4222-9e94-bc0efddc7719",
   "metadata": {},
   "outputs": [
    {
     "data": {
      "text/plain": [
       "'comp.graphics'"
      ]
     },
     "execution_count": 18,
     "metadata": {},
     "output_type": "execute_result"
    }
   ],
   "source": [
    "predict_category('determining the screen resolution')"
   ]
  },
  {
   "cell_type": "markdown",
   "id": "bfafe1c6-927a-4cc5-b95b-652e32aec26f",
   "metadata": {},
   "source": [
    "# Decision Trees"
   ]
  },
  {
   "cell_type": "code",
   "execution_count": 19,
   "id": "643755c4-9723-4c03-bd3e-c2fb9039d7c4",
   "metadata": {},
   "outputs": [
    {
     "data": {
      "image/png": "[encoded data removed]",
      "text/plain": [
       "<Figure size 432x288 with 1 Axes>"
      ]
     },
     "metadata": {},
     "output_type": "display_data"
    }
   ],
   "source": [
    "#se carga un ejemplo de Decision Tree  el cual quiere clasificar los animales Hawk, Penguin, Dolphin Bear \n",
    "import mglearn\n",
    "\n",
    "mglearn.plots.plot_animal_tree()"
   ]
  },
  {
   "cell_type": "markdown",
   "id": "1aa535ab-015e-4535-914f-f0a57d1b194a",
   "metadata": {},
   "source": [
    "# Cáncer de mama.\n",
    "hacer crecer el árbol hasta\n",
    "todas las hojas son puras"
   ]
  },
  {
   "cell_type": "code",
   "execution_count": 20,
   "id": "36ec7ad0-76d7-4c68-a6d7-db47dca3bc29",
   "metadata": {},
   "outputs": [
    {
     "name": "stdout",
     "output_type": "stream",
     "text": [
      "Precisión en el conjunto de entrenamiento: 1.000\n",
      "Precisión en el equipo de prueba: 0.937\n"
     ]
    }
   ],
   "source": [
    "import pandas as pd\n",
    "import random\n",
    "from sklearn.datasets import load_breast_cancer #descarga los datos del cancer \n",
    "from sklearn.model_selection import train_test_split  #descarga la  model para entrenar \n",
    "from sklearn.tree import DecisionTreeClassifier#descarga la funcion para crear un arbol \n",
    "cancer = load_breast_cancer() \n",
    "X_train, X_test, y_train, y_test = train_test_split(\n",
    "cancer.data, cancer.target, stratify=cancer.target, random_state=42)#divide mi documento en entrenamiento y prueba\n",
    "tree = DecisionTreeClassifier(random_state=0)  \n",
    "tree.fit(X_train, y_train)  #crea un arbol con los datos de entrenamiento\n",
    "print(\"Precisión en el conjunto de entrenamiento: {:.3f}\".format(tree.score(X_train, y_train))) #te dice la precision\n",
    "print(\"Precisión en el equipo de prueba: {:.3f}\".format(tree.score(X_test, y_test)))\n",
    "# los árboles sin podar son propensos a sobreajustar."
   ]
  },
  {
   "cell_type": "markdown",
   "id": "525caf9d-3236-434a-a42d-71d9c4685172",
   "metadata": {},
   "source": [
    "Ahora apliquemos la poda previa al árbol, Una opción es dejar de construir el\n",
    "árbol después de que se haya alcanzado una cierta profundidad.\n",
    "Aquí establecemos max_depth = 4, es decir, solose pueden hacer cuatro preguntas consecutivas"
   ]
  },
  {
   "cell_type": "code",
   "execution_count": 21,
   "id": "4552d712-796d-49ed-8d48-7dda59737bd6",
   "metadata": {},
   "outputs": [
    {
     "name": "stdout",
     "output_type": "stream",
     "text": [
      "Precisión en el conjunto de entrenamiento: 0.995\n",
      "Precisión en el equipo de prueba: 0.951\n"
     ]
    }
   ],
   "source": [
    "tree = DecisionTreeClassifier(max_depth=5, random_state=0) #comando para podar un arbol (con una profundidad o de 4 )\n",
    "tree.fit(X_train, y_train)\n",
    "print(\"Precisión en el conjunto de entrenamiento: {:.3f}\".format(tree.score(X_train, y_train)))\n",
    "print(\"Precisión en el equipo de prueba: {:.3f}\".format(tree.score(X_test, y_test)))"
   ]
  },
  {
   "cell_type": "markdown",
   "id": "eaf969c0-c2fa-49e3-af55-5705db0ac8fe",
   "metadata": {},
   "source": [
    "Limitando la profundidad del árbol disminuye el sobreajuste. Esto conduce a una menor precisión en el entrenamiento.\n",
    "conjunto, pero una mejora en el conjunto de prueba"
   ]
  },
  {
   "cell_type": "markdown",
   "id": "2358fa8c-3002-4e4f-b5b3-8ac13b0f42f9",
   "metadata": {},
   "source": [
    "# Analyzing decision trees"
   ]
  },
  {
   "cell_type": "markdown",
   "id": "ce4b6374-4a0b-426f-83d8-a515730545df",
   "metadata": {},
   "source": [
    "Podemos visualizar el árbol usando la función export_graphviz del  tree module.\n",
    "Esto escribe un archivo en formato de archivo .dot, que es un formato de archivo de texto para almacenar gráficos."
   ]
  },
  {
   "cell_type": "code",
   "execution_count": 22,
   "id": "eb42ab83-f871-4f13-921c-5c302e97cf6e",
   "metadata": {},
   "outputs": [],
   "source": [
    "#con estos comandos se instala graphviz\n",
    "# conda remove graphviz\n",
    "# conda install python-graphviz"
   ]
  },
  {
   "cell_type": "code",
   "execution_count": 23,
   "id": "79c51cd5-1478-439d-b24b-b8b38c10fc35",
   "metadata": {},
   "outputs": [],
   "source": [
    "from sklearn.tree import export_graphviz #llamas el model que ayuda a graficar\n",
    "export_graphviz(tree, out_file=\"tree.dot\", class_names=[\"malignant\", \"benign\"], #le pones nombre a tus clases\n",
    "#se guarda el arbol en el documento tree.dot\n",
    "feature_names=cancer.feature_names, impurity=False, filled=True) "
   ]
  },
  {
   "cell_type": "code",
   "execution_count": 24,
   "id": "126142c7-91e6-4fda-9083-5e1a9749063f",
   "metadata": {},
   "outputs": [
    {
     "data": {
      "image/svg+xml": [
       "<?xml version=\"1.0\" encoding=\"UTF-8\" standalone=\"no\"?>\n",
       "<!DOCTYPE svg PUBLIC \"-//W3C//DTD SVG 1.1//EN\"\n",
       " \"http://www.w3.org/Graphics/SVG/1.1/DTD/svg11.dtd\">\n",
       "<!-- Generated by graphviz version 2.43.0 (0)\n",
       " -->\n",
       "<!-- Title: Tree Pages: 1 -->\n",
       "<svg width=\"1652pt\" height=\"581pt\"\n",
       " viewBox=\"0.00 0.00 1651.50 581.00\" xmlns=\"http://www.w3.org/2000/svg\" xmlns:xlink=\"http://www.w3.org/1999/xlink\">\n",
       "<g id=\"graph0\" class=\"graph\" transform=\"scale(1 1) rotate(0) translate(4 577)\">\n",
       "<title>Tree</title>\n",
       "<polygon fill=\"white\" stroke=\"transparent\" points=\"-4,4 -4,-577 1647.5,-577 1647.5,4 -4,4\"/>\n",
       "<!-- 0 -->\n",
       "<g id=\"node1\" class=\"node\">\n",
       "<title>0</title>\n",
       "<polygon fill=\"#afd7f4\" stroke=\"black\" points=\"1165.5,-573 976.5,-573 976.5,-505 1165.5,-505 1165.5,-573\"/>\n",
       "<text text-anchor=\"middle\" x=\"1071\" y=\"-557.8\" font-family=\"Times,serif\" font-size=\"14.00\">worst radius &lt;= 16.795</text>\n",
       "<text text-anchor=\"middle\" x=\"1071\" y=\"-542.8\" font-family=\"Times,serif\" font-size=\"14.00\">samples = 426</text>\n",
       "<text text-anchor=\"middle\" x=\"1071\" y=\"-527.8\" font-family=\"Times,serif\" font-size=\"14.00\">value = [159, 267]</text>\n",
       "<text text-anchor=\"middle\" x=\"1071\" y=\"-512.8\" font-family=\"Times,serif\" font-size=\"14.00\">class = benign</text>\n",
       "</g>\n",
       "<!-- 1 -->\n",
       "<g id=\"node2\" class=\"node\">\n",
       "<title>1</title>\n",
       "<polygon fill=\"#4ca6e8\" stroke=\"black\" points=\"1001.5,-469 760.5,-469 760.5,-401 1001.5,-401 1001.5,-469\"/>\n",
       "<text text-anchor=\"middle\" x=\"881\" y=\"-453.8\" font-family=\"Times,serif\" font-size=\"14.00\">worst concave points &lt;= 0.136</text>\n",
       "<text text-anchor=\"middle\" x=\"881\" y=\"-438.8\" font-family=\"Times,serif\" font-size=\"14.00\">samples = 284</text>\n",
       "<text text-anchor=\"middle\" x=\"881\" y=\"-423.8\" font-family=\"Times,serif\" font-size=\"14.00\">value = [25, 259]</text>\n",
       "<text text-anchor=\"middle\" x=\"881\" y=\"-408.8\" font-family=\"Times,serif\" font-size=\"14.00\">class = benign</text>\n",
       "</g>\n",
       "<!-- 0&#45;&gt;1 -->\n",
       "<g id=\"edge1\" class=\"edge\">\n",
       "<title>0&#45;&gt;1</title>\n",
       "<path fill=\"none\" stroke=\"black\" d=\"M1009.31,-504.88C990.88,-494.99 970.54,-484.07 951.59,-473.9\"/>\n",
       "<polygon fill=\"black\" stroke=\"black\" points=\"953.17,-470.77 942.7,-469.12 949.86,-476.94 953.17,-470.77\"/>\n",
       "<text text-anchor=\"middle\" x=\"949.92\" y=\"-489.36\" font-family=\"Times,serif\" font-size=\"14.00\">True</text>\n",
       "</g>\n",
       "<!-- 22 -->\n",
       "<g id=\"node23\" class=\"node\">\n",
       "<title>22</title>\n",
       "<polygon fill=\"#e78945\" stroke=\"black\" points=\"1223,-469 1039,-469 1039,-401 1223,-401 1223,-469\"/>\n",
       "<text text-anchor=\"middle\" x=\"1131\" y=\"-453.8\" font-family=\"Times,serif\" font-size=\"14.00\">texture error &lt;= 0.473</text>\n",
       "<text text-anchor=\"middle\" x=\"1131\" y=\"-438.8\" font-family=\"Times,serif\" font-size=\"14.00\">samples = 142</text>\n",
       "<text text-anchor=\"middle\" x=\"1131\" y=\"-423.8\" font-family=\"Times,serif\" font-size=\"14.00\">value = [134, 8]</text>\n",
       "<text text-anchor=\"middle\" x=\"1131\" y=\"-408.8\" font-family=\"Times,serif\" font-size=\"14.00\">class = malignant</text>\n",
       "</g>\n",
       "<!-- 0&#45;&gt;22 -->\n",
       "<g id=\"edge22\" class=\"edge\">\n",
       "<title>0&#45;&gt;22</title>\n",
       "<path fill=\"none\" stroke=\"black\" d=\"M1090.48,-504.88C1095.51,-496.33 1100.99,-487.01 1106.25,-478.07\"/>\n",
       "<polygon fill=\"black\" stroke=\"black\" points=\"1109.36,-479.69 1111.41,-469.3 1103.33,-476.14 1109.36,-479.69\"/>\n",
       "<text text-anchor=\"middle\" x=\"1117.69\" y=\"-489.8\" font-family=\"Times,serif\" font-size=\"14.00\">False</text>\n",
       "</g>\n",
       "<!-- 2 -->\n",
       "<g id=\"node3\" class=\"node\">\n",
       "<title>2</title>\n",
       "<polygon fill=\"#3c9fe5\" stroke=\"black\" points=\"705,-365 529,-365 529,-297 705,-297 705,-365\"/>\n",
       "<text text-anchor=\"middle\" x=\"617\" y=\"-349.8\" font-family=\"Times,serif\" font-size=\"14.00\">radius error &lt;= 1.048</text>\n",
       "<text text-anchor=\"middle\" x=\"617\" y=\"-334.8\" font-family=\"Times,serif\" font-size=\"14.00\">samples = 252</text>\n",
       "<text text-anchor=\"middle\" x=\"617\" y=\"-319.8\" font-family=\"Times,serif\" font-size=\"14.00\">value = [4, 248]</text>\n",
       "<text text-anchor=\"middle\" x=\"617\" y=\"-304.8\" font-family=\"Times,serif\" font-size=\"14.00\">class = benign</text>\n",
       "</g>\n",
       "<!-- 1&#45;&gt;2 -->\n",
       "<g id=\"edge2\" class=\"edge\">\n",
       "<title>1&#45;&gt;2</title>\n",
       "<path fill=\"none\" stroke=\"black\" d=\"M795.29,-400.88C768.75,-390.63 739.37,-379.28 712.23,-368.79\"/>\n",
       "<polygon fill=\"black\" stroke=\"black\" points=\"713.32,-365.46 702.73,-365.12 710.8,-371.99 713.32,-365.46\"/>\n",
       "</g>\n",
       "<!-- 11 -->\n",
       "<g id=\"node12\" class=\"node\">\n",
       "<title>11</title>\n",
       "<polygon fill=\"#f3c3a1\" stroke=\"black\" points=\"975,-365 787,-365 787,-297 975,-297 975,-365\"/>\n",
       "<text text-anchor=\"middle\" x=\"881\" y=\"-349.8\" font-family=\"Times,serif\" font-size=\"14.00\">worst texture &lt;= 25.62</text>\n",
       "<text text-anchor=\"middle\" x=\"881\" y=\"-334.8\" font-family=\"Times,serif\" font-size=\"14.00\">samples = 32</text>\n",
       "<text text-anchor=\"middle\" x=\"881\" y=\"-319.8\" font-family=\"Times,serif\" font-size=\"14.00\">value = [21, 11]</text>\n",
       "<text text-anchor=\"middle\" x=\"881\" y=\"-304.8\" font-family=\"Times,serif\" font-size=\"14.00\">class = malignant</text>\n",
       "</g>\n",
       "<!-- 1&#45;&gt;11 -->\n",
       "<g id=\"edge11\" class=\"edge\">\n",
       "<title>1&#45;&gt;11</title>\n",
       "<path fill=\"none\" stroke=\"black\" d=\"M881,-400.88C881,-392.78 881,-383.98 881,-375.47\"/>\n",
       "<polygon fill=\"black\" stroke=\"black\" points=\"884.5,-375.3 881,-365.3 877.5,-375.3 884.5,-375.3\"/>\n",
       "</g>\n",
       "<!-- 3 -->\n",
       "<g id=\"node4\" class=\"node\">\n",
       "<title>3</title>\n",
       "<polygon fill=\"#3b9ee5\" stroke=\"black\" points=\"512,-261 296,-261 296,-193 512,-193 512,-261\"/>\n",
       "<text text-anchor=\"middle\" x=\"404\" y=\"-245.8\" font-family=\"Times,serif\" font-size=\"14.00\">smoothness error &lt;= 0.003</text>\n",
       "<text text-anchor=\"middle\" x=\"404\" y=\"-230.8\" font-family=\"Times,serif\" font-size=\"14.00\">samples = 251</text>\n",
       "<text text-anchor=\"middle\" x=\"404\" y=\"-215.8\" font-family=\"Times,serif\" font-size=\"14.00\">value = [3, 248]</text>\n",
       "<text text-anchor=\"middle\" x=\"404\" y=\"-200.8\" font-family=\"Times,serif\" font-size=\"14.00\">class = benign</text>\n",
       "</g>\n",
       "<!-- 2&#45;&gt;3 -->\n",
       "<g id=\"edge3\" class=\"edge\">\n",
       "<title>2&#45;&gt;3</title>\n",
       "<path fill=\"none\" stroke=\"black\" d=\"M547.85,-296.88C526.91,-286.86 503.76,-275.77 482.27,-265.48\"/>\n",
       "<polygon fill=\"black\" stroke=\"black\" points=\"483.7,-262.29 473.17,-261.12 480.68,-268.6 483.7,-262.29\"/>\n",
       "</g>\n",
       "<!-- 10 -->\n",
       "<g id=\"node11\" class=\"node\">\n",
       "<title>10</title>\n",
       "<polygon fill=\"#e58139\" stroke=\"black\" points=\"689.5,-253.5 544.5,-253.5 544.5,-200.5 689.5,-200.5 689.5,-253.5\"/>\n",
       "<text text-anchor=\"middle\" x=\"617\" y=\"-238.3\" font-family=\"Times,serif\" font-size=\"14.00\">samples = 1</text>\n",
       "<text text-anchor=\"middle\" x=\"617\" y=\"-223.3\" font-family=\"Times,serif\" font-size=\"14.00\">value = [1, 0]</text>\n",
       "<text text-anchor=\"middle\" x=\"617\" y=\"-208.3\" font-family=\"Times,serif\" font-size=\"14.00\">class = malignant</text>\n",
       "</g>\n",
       "<!-- 2&#45;&gt;10 -->\n",
       "<g id=\"edge10\" class=\"edge\">\n",
       "<title>2&#45;&gt;10</title>\n",
       "<path fill=\"none\" stroke=\"black\" d=\"M617,-296.88C617,-286.33 617,-274.6 617,-263.85\"/>\n",
       "<polygon fill=\"black\" stroke=\"black\" points=\"620.5,-263.52 617,-253.52 613.5,-263.52 620.5,-263.52\"/>\n",
       "</g>\n",
       "<!-- 4 -->\n",
       "<g id=\"node5\" class=\"node\">\n",
       "<title>4</title>\n",
       "<polygon fill=\"#7bbeee\" stroke=\"black\" points=\"301.5,-157 124.5,-157 124.5,-89 301.5,-89 301.5,-157\"/>\n",
       "<text text-anchor=\"middle\" x=\"213\" y=\"-141.8\" font-family=\"Times,serif\" font-size=\"14.00\">mean texture &lt;= 19.9</text>\n",
       "<text text-anchor=\"middle\" x=\"213\" y=\"-126.8\" font-family=\"Times,serif\" font-size=\"14.00\">samples = 4</text>\n",
       "<text text-anchor=\"middle\" x=\"213\" y=\"-111.8\" font-family=\"Times,serif\" font-size=\"14.00\">value = [1, 3]</text>\n",
       "<text text-anchor=\"middle\" x=\"213\" y=\"-96.8\" font-family=\"Times,serif\" font-size=\"14.00\">class = benign</text>\n",
       "</g>\n",
       "<!-- 3&#45;&gt;4 -->\n",
       "<g id=\"edge4\" class=\"edge\">\n",
       "<title>3&#45;&gt;4</title>\n",
       "<path fill=\"none\" stroke=\"black\" d=\"M341.99,-192.88C323.46,-182.99 303.01,-172.07 283.96,-161.9\"/>\n",
       "<polygon fill=\"black\" stroke=\"black\" points=\"285.5,-158.75 275.03,-157.12 282.2,-164.92 285.5,-158.75\"/>\n",
       "</g>\n",
       "<!-- 7 -->\n",
       "<g id=\"node8\" class=\"node\">\n",
       "<title>7</title>\n",
       "<polygon fill=\"#3b9ee5\" stroke=\"black\" points=\"481,-157 327,-157 327,-89 481,-89 481,-157\"/>\n",
       "<text text-anchor=\"middle\" x=\"404\" y=\"-141.8\" font-family=\"Times,serif\" font-size=\"14.00\">area error &lt;= 48.7</text>\n",
       "<text text-anchor=\"middle\" x=\"404\" y=\"-126.8\" font-family=\"Times,serif\" font-size=\"14.00\">samples = 247</text>\n",
       "<text text-anchor=\"middle\" x=\"404\" y=\"-111.8\" font-family=\"Times,serif\" font-size=\"14.00\">value = [2, 245]</text>\n",
       "<text text-anchor=\"middle\" x=\"404\" y=\"-96.8\" font-family=\"Times,serif\" font-size=\"14.00\">class = benign</text>\n",
       "</g>\n",
       "<!-- 3&#45;&gt;7 -->\n",
       "<g id=\"edge7\" class=\"edge\">\n",
       "<title>3&#45;&gt;7</title>\n",
       "<path fill=\"none\" stroke=\"black\" d=\"M404,-192.88C404,-184.78 404,-175.98 404,-167.47\"/>\n",
       "<polygon fill=\"black\" stroke=\"black\" points=\"407.5,-167.3 404,-157.3 400.5,-167.3 407.5,-167.3\"/>\n",
       "</g>\n",
       "<!-- 5 -->\n",
       "<g id=\"node6\" class=\"node\">\n",
       "<title>5</title>\n",
       "<polygon fill=\"#399de5\" stroke=\"black\" points=\"122,-53 0,-53 0,0 122,0 122,-53\"/>\n",
       "<text text-anchor=\"middle\" x=\"61\" y=\"-37.8\" font-family=\"Times,serif\" font-size=\"14.00\">samples = 3</text>\n",
       "<text text-anchor=\"middle\" x=\"61\" y=\"-22.8\" font-family=\"Times,serif\" font-size=\"14.00\">value = [0, 3]</text>\n",
       "<text text-anchor=\"middle\" x=\"61\" y=\"-7.8\" font-family=\"Times,serif\" font-size=\"14.00\">class = benign</text>\n",
       "</g>\n",
       "<!-- 4&#45;&gt;5 -->\n",
       "<g id=\"edge5\" class=\"edge\">\n",
       "<title>4&#45;&gt;5</title>\n",
       "<path fill=\"none\" stroke=\"black\" d=\"M159.84,-88.95C143.95,-79.07 126.59,-68.28 110.91,-58.53\"/>\n",
       "<polygon fill=\"black\" stroke=\"black\" points=\"112.74,-55.54 102.4,-53.24 109.04,-61.49 112.74,-55.54\"/>\n",
       "</g>\n",
       "<!-- 6 -->\n",
       "<g id=\"node7\" class=\"node\">\n",
       "<title>6</title>\n",
       "<polygon fill=\"#e58139\" stroke=\"black\" points=\"285.5,-53 140.5,-53 140.5,0 285.5,0 285.5,-53\"/>\n",
       "<text text-anchor=\"middle\" x=\"213\" y=\"-37.8\" font-family=\"Times,serif\" font-size=\"14.00\">samples = 1</text>\n",
       "<text text-anchor=\"middle\" x=\"213\" y=\"-22.8\" font-family=\"Times,serif\" font-size=\"14.00\">value = [1, 0]</text>\n",
       "<text text-anchor=\"middle\" x=\"213\" y=\"-7.8\" font-family=\"Times,serif\" font-size=\"14.00\">class = malignant</text>\n",
       "</g>\n",
       "<!-- 4&#45;&gt;6 -->\n",
       "<g id=\"edge6\" class=\"edge\">\n",
       "<title>4&#45;&gt;6</title>\n",
       "<path fill=\"none\" stroke=\"black\" d=\"M213,-88.95C213,-80.72 213,-71.85 213,-63.48\"/>\n",
       "<polygon fill=\"black\" stroke=\"black\" points=\"216.5,-63.24 213,-53.24 209.5,-63.24 216.5,-63.24\"/>\n",
       "</g>\n",
       "<!-- 8 -->\n",
       "<g id=\"node9\" class=\"node\">\n",
       "<title>8</title>\n",
       "<polygon fill=\"#3a9de5\" stroke=\"black\" points=\"434.5,-53 303.5,-53 303.5,0 434.5,0 434.5,-53\"/>\n",
       "<text text-anchor=\"middle\" x=\"369\" y=\"-37.8\" font-family=\"Times,serif\" font-size=\"14.00\">samples = 243</text>\n",
       "<text text-anchor=\"middle\" x=\"369\" y=\"-22.8\" font-family=\"Times,serif\" font-size=\"14.00\">value = [1, 242]</text>\n",
       "<text text-anchor=\"middle\" x=\"369\" y=\"-7.8\" font-family=\"Times,serif\" font-size=\"14.00\">class = benign</text>\n",
       "</g>\n",
       "<!-- 7&#45;&gt;8 -->\n",
       "<g id=\"edge8\" class=\"edge\">\n",
       "<title>7&#45;&gt;8</title>\n",
       "<path fill=\"none\" stroke=\"black\" d=\"M391.76,-88.95C388.61,-80.44 385.21,-71.26 382.02,-62.65\"/>\n",
       "<polygon fill=\"black\" stroke=\"black\" points=\"385.29,-61.4 378.53,-53.24 378.72,-63.83 385.29,-61.4\"/>\n",
       "</g>\n",
       "<!-- 9 -->\n",
       "<g id=\"node10\" class=\"node\">\n",
       "<title>9</title>\n",
       "<polygon fill=\"#7bbeee\" stroke=\"black\" points=\"575,-53 453,-53 453,0 575,0 575,-53\"/>\n",
       "<text text-anchor=\"middle\" x=\"514\" y=\"-37.8\" font-family=\"Times,serif\" font-size=\"14.00\">samples = 4</text>\n",
       "<text text-anchor=\"middle\" x=\"514\" y=\"-22.8\" font-family=\"Times,serif\" font-size=\"14.00\">value = [1, 3]</text>\n",
       "<text text-anchor=\"middle\" x=\"514\" y=\"-7.8\" font-family=\"Times,serif\" font-size=\"14.00\">class = benign</text>\n",
       "</g>\n",
       "<!-- 7&#45;&gt;9 -->\n",
       "<g id=\"edge9\" class=\"edge\">\n",
       "<title>7&#45;&gt;9</title>\n",
       "<path fill=\"none\" stroke=\"black\" d=\"M442.47,-88.95C453.44,-79.53 465.38,-69.27 476.3,-59.89\"/>\n",
       "<polygon fill=\"black\" stroke=\"black\" points=\"478.74,-62.41 484.04,-53.24 474.18,-57.1 478.74,-62.41\"/>\n",
       "</g>\n",
       "<!-- 12 -->\n",
       "<g id=\"node13\" class=\"node\">\n",
       "<title>12</title>\n",
       "<polygon fill=\"#7bbeee\" stroke=\"black\" points=\"953,-261 735,-261 735,-193 953,-193 953,-261\"/>\n",
       "<text text-anchor=\"middle\" x=\"844\" y=\"-245.8\" font-family=\"Times,serif\" font-size=\"14.00\">mean smoothness &lt;= 0.123</text>\n",
       "<text text-anchor=\"middle\" x=\"844\" y=\"-230.8\" font-family=\"Times,serif\" font-size=\"14.00\">samples = 12</text>\n",
       "<text text-anchor=\"middle\" x=\"844\" y=\"-215.8\" font-family=\"Times,serif\" font-size=\"14.00\">value = [3, 9]</text>\n",
       "<text text-anchor=\"middle\" x=\"844\" y=\"-200.8\" font-family=\"Times,serif\" font-size=\"14.00\">class = benign</text>\n",
       "</g>\n",
       "<!-- 11&#45;&gt;12 -->\n",
       "<g id=\"edge12\" class=\"edge\">\n",
       "<title>11&#45;&gt;12</title>\n",
       "<path fill=\"none\" stroke=\"black\" d=\"M868.99,-296.88C865.98,-288.6 862.72,-279.6 859.57,-270.91\"/>\n",
       "<polygon fill=\"black\" stroke=\"black\" points=\"862.78,-269.51 856.08,-261.3 856.2,-271.89 862.78,-269.51\"/>\n",
       "</g>\n",
       "<!-- 17 -->\n",
       "<g id=\"node18\" class=\"node\">\n",
       "<title>17</title>\n",
       "<polygon fill=\"#e88f4f\" stroke=\"black\" points=\"1178.5,-261 971.5,-261 971.5,-193 1178.5,-193 1178.5,-261\"/>\n",
       "<text text-anchor=\"middle\" x=\"1075\" y=\"-245.8\" font-family=\"Times,serif\" font-size=\"14.00\">worst symmetry &lt;= 0.268</text>\n",
       "<text text-anchor=\"middle\" x=\"1075\" y=\"-230.8\" font-family=\"Times,serif\" font-size=\"14.00\">samples = 20</text>\n",
       "<text text-anchor=\"middle\" x=\"1075\" y=\"-215.8\" font-family=\"Times,serif\" font-size=\"14.00\">value = [18, 2]</text>\n",
       "<text text-anchor=\"middle\" x=\"1075\" y=\"-200.8\" font-family=\"Times,serif\" font-size=\"14.00\">class = malignant</text>\n",
       "</g>\n",
       "<!-- 11&#45;&gt;17 -->\n",
       "<g id=\"edge17\" class=\"edge\">\n",
       "<title>11&#45;&gt;17</title>\n",
       "<path fill=\"none\" stroke=\"black\" d=\"M943.99,-296.88C962.8,-286.99 983.57,-276.07 1002.92,-265.9\"/>\n",
       "<polygon fill=\"black\" stroke=\"black\" points=\"1004.78,-268.88 1012,-261.12 1001.52,-262.68 1004.78,-268.88\"/>\n",
       "</g>\n",
       "<!-- 13 -->\n",
       "<g id=\"node14\" class=\"node\">\n",
       "<title>13</title>\n",
       "<polygon fill=\"#4fa8e8\" stroke=\"black\" points=\"786.5,-157 545.5,-157 545.5,-89 786.5,-89 786.5,-157\"/>\n",
       "<text text-anchor=\"middle\" x=\"666\" y=\"-141.8\" font-family=\"Times,serif\" font-size=\"14.00\">worst concave points &lt;= 0.138</text>\n",
       "<text text-anchor=\"middle\" x=\"666\" y=\"-126.8\" font-family=\"Times,serif\" font-size=\"14.00\">samples = 10</text>\n",
       "<text text-anchor=\"middle\" x=\"666\" y=\"-111.8\" font-family=\"Times,serif\" font-size=\"14.00\">value = [1, 9]</text>\n",
       "<text text-anchor=\"middle\" x=\"666\" y=\"-96.8\" font-family=\"Times,serif\" font-size=\"14.00\">class = benign</text>\n",
       "</g>\n",
       "<!-- 12&#45;&gt;13 -->\n",
       "<g id=\"edge13\" class=\"edge\">\n",
       "<title>12&#45;&gt;13</title>\n",
       "<path fill=\"none\" stroke=\"black\" d=\"M786.21,-192.88C769.18,-183.12 750.4,-172.37 732.86,-162.31\"/>\n",
       "<polygon fill=\"black\" stroke=\"black\" points=\"734.22,-159.06 723.81,-157.12 730.74,-165.13 734.22,-159.06\"/>\n",
       "</g>\n",
       "<!-- 16 -->\n",
       "<g id=\"node17\" class=\"node\">\n",
       "<title>16</title>\n",
       "<polygon fill=\"#e58139\" stroke=\"black\" points=\"949.5,-149.5 804.5,-149.5 804.5,-96.5 949.5,-96.5 949.5,-149.5\"/>\n",
       "<text text-anchor=\"middle\" x=\"877\" y=\"-134.3\" font-family=\"Times,serif\" font-size=\"14.00\">samples = 2</text>\n",
       "<text text-anchor=\"middle\" x=\"877\" y=\"-119.3\" font-family=\"Times,serif\" font-size=\"14.00\">value = [2, 0]</text>\n",
       "<text text-anchor=\"middle\" x=\"877\" y=\"-104.3\" font-family=\"Times,serif\" font-size=\"14.00\">class = malignant</text>\n",
       "</g>\n",
       "<!-- 12&#45;&gt;16 -->\n",
       "<g id=\"edge16\" class=\"edge\">\n",
       "<title>12&#45;&gt;16</title>\n",
       "<path fill=\"none\" stroke=\"black\" d=\"M854.71,-192.88C858.2,-182.11 862.08,-170.11 865.62,-159.18\"/>\n",
       "<polygon fill=\"black\" stroke=\"black\" points=\"869,-160.11 868.74,-149.52 862.34,-157.96 869,-160.11\"/>\n",
       "</g>\n",
       "<!-- 14 -->\n",
       "<g id=\"node15\" class=\"node\">\n",
       "<title>14</title>\n",
       "<polygon fill=\"#e58139\" stroke=\"black\" points=\"738.5,-53 593.5,-53 593.5,0 738.5,0 738.5,-53\"/>\n",
       "<text text-anchor=\"middle\" x=\"666\" y=\"-37.8\" font-family=\"Times,serif\" font-size=\"14.00\">samples = 1</text>\n",
       "<text text-anchor=\"middle\" x=\"666\" y=\"-22.8\" font-family=\"Times,serif\" font-size=\"14.00\">value = [1, 0]</text>\n",
       "<text text-anchor=\"middle\" x=\"666\" y=\"-7.8\" font-family=\"Times,serif\" font-size=\"14.00\">class = malignant</text>\n",
       "</g>\n",
       "<!-- 13&#45;&gt;14 -->\n",
       "<g id=\"edge14\" class=\"edge\">\n",
       "<title>13&#45;&gt;14</title>\n",
       "<path fill=\"none\" stroke=\"black\" d=\"M666,-88.95C666,-80.72 666,-71.85 666,-63.48\"/>\n",
       "<polygon fill=\"black\" stroke=\"black\" points=\"669.5,-63.24 666,-53.24 662.5,-63.24 669.5,-63.24\"/>\n",
       "</g>\n",
       "<!-- 15 -->\n",
       "<g id=\"node16\" class=\"node\">\n",
       "<title>15</title>\n",
       "<polygon fill=\"#399de5\" stroke=\"black\" points=\"879,-53 757,-53 757,0 879,0 879,-53\"/>\n",
       "<text text-anchor=\"middle\" x=\"818\" y=\"-37.8\" font-family=\"Times,serif\" font-size=\"14.00\">samples = 9</text>\n",
       "<text text-anchor=\"middle\" x=\"818\" y=\"-22.8\" font-family=\"Times,serif\" font-size=\"14.00\">value = [0, 9]</text>\n",
       "<text text-anchor=\"middle\" x=\"818\" y=\"-7.8\" font-family=\"Times,serif\" font-size=\"14.00\">class = benign</text>\n",
       "</g>\n",
       "<!-- 13&#45;&gt;15 -->\n",
       "<g id=\"edge15\" class=\"edge\">\n",
       "<title>13&#45;&gt;15</title>\n",
       "<path fill=\"none\" stroke=\"black\" d=\"M719.16,-88.95C735.05,-79.07 752.41,-68.28 768.09,-58.53\"/>\n",
       "<polygon fill=\"black\" stroke=\"black\" points=\"769.96,-61.49 776.6,-53.24 766.26,-55.54 769.96,-61.49\"/>\n",
       "</g>\n",
       "<!-- 18 -->\n",
       "<g id=\"node19\" class=\"node\">\n",
       "<title>18</title>\n",
       "<polygon fill=\"#9ccef2\" stroke=\"black\" points=\"1144,-157 968,-157 968,-89 1144,-89 1144,-157\"/>\n",
       "<text text-anchor=\"middle\" x=\"1056\" y=\"-141.8\" font-family=\"Times,serif\" font-size=\"14.00\">worst area &lt;= 753.05</text>\n",
       "<text text-anchor=\"middle\" x=\"1056\" y=\"-126.8\" font-family=\"Times,serif\" font-size=\"14.00\">samples = 3</text>\n",
       "<text text-anchor=\"middle\" x=\"1056\" y=\"-111.8\" font-family=\"Times,serif\" font-size=\"14.00\">value = [1, 2]</text>\n",
       "<text text-anchor=\"middle\" x=\"1056\" y=\"-96.8\" font-family=\"Times,serif\" font-size=\"14.00\">class = benign</text>\n",
       "</g>\n",
       "<!-- 17&#45;&gt;18 -->\n",
       "<g id=\"edge18\" class=\"edge\">\n",
       "<title>17&#45;&gt;18</title>\n",
       "<path fill=\"none\" stroke=\"black\" d=\"M1068.83,-192.88C1067.3,-184.69 1065.65,-175.79 1064.05,-167.19\"/>\n",
       "<polygon fill=\"black\" stroke=\"black\" points=\"1067.47,-166.49 1062.2,-157.3 1060.59,-167.77 1067.47,-166.49\"/>\n",
       "</g>\n",
       "<!-- 21 -->\n",
       "<g id=\"node22\" class=\"node\">\n",
       "<title>21</title>\n",
       "<polygon fill=\"#e58139\" stroke=\"black\" points=\"1307.5,-149.5 1162.5,-149.5 1162.5,-96.5 1307.5,-96.5 1307.5,-149.5\"/>\n",
       "<text text-anchor=\"middle\" x=\"1235\" y=\"-134.3\" font-family=\"Times,serif\" font-size=\"14.00\">samples = 17</text>\n",
       "<text text-anchor=\"middle\" x=\"1235\" y=\"-119.3\" font-family=\"Times,serif\" font-size=\"14.00\">value = [17, 0]</text>\n",
       "<text text-anchor=\"middle\" x=\"1235\" y=\"-104.3\" font-family=\"Times,serif\" font-size=\"14.00\">class = malignant</text>\n",
       "</g>\n",
       "<!-- 17&#45;&gt;21 -->\n",
       "<g id=\"edge21\" class=\"edge\">\n",
       "<title>17&#45;&gt;21</title>\n",
       "<path fill=\"none\" stroke=\"black\" d=\"M1126.95,-192.88C1146.1,-180.68 1167.7,-166.9 1186.53,-154.9\"/>\n",
       "<polygon fill=\"black\" stroke=\"black\" points=\"1188.42,-157.85 1194.97,-149.52 1184.65,-151.94 1188.42,-157.85\"/>\n",
       "</g>\n",
       "<!-- 19 -->\n",
       "<g id=\"node20\" class=\"node\">\n",
       "<title>19</title>\n",
       "<polygon fill=\"#399de5\" stroke=\"black\" points=\"1068,-53 946,-53 946,0 1068,0 1068,-53\"/>\n",
       "<text text-anchor=\"middle\" x=\"1007\" y=\"-37.8\" font-family=\"Times,serif\" font-size=\"14.00\">samples = 2</text>\n",
       "<text text-anchor=\"middle\" x=\"1007\" y=\"-22.8\" font-family=\"Times,serif\" font-size=\"14.00\">value = [0, 2]</text>\n",
       "<text text-anchor=\"middle\" x=\"1007\" y=\"-7.8\" font-family=\"Times,serif\" font-size=\"14.00\">class = benign</text>\n",
       "</g>\n",
       "<!-- 18&#45;&gt;19 -->\n",
       "<g id=\"edge19\" class=\"edge\">\n",
       "<title>18&#45;&gt;19</title>\n",
       "<path fill=\"none\" stroke=\"black\" d=\"M1038.86,-88.95C1034.4,-80.35 1029.59,-71.06 1025.08,-62.37\"/>\n",
       "<polygon fill=\"black\" stroke=\"black\" points=\"1028.06,-60.5 1020.34,-53.24 1021.84,-63.73 1028.06,-60.5\"/>\n",
       "</g>\n",
       "<!-- 20 -->\n",
       "<g id=\"node21\" class=\"node\">\n",
       "<title>20</title>\n",
       "<polygon fill=\"#e58139\" stroke=\"black\" points=\"1231.5,-53 1086.5,-53 1086.5,0 1231.5,0 1231.5,-53\"/>\n",
       "<text text-anchor=\"middle\" x=\"1159\" y=\"-37.8\" font-family=\"Times,serif\" font-size=\"14.00\">samples = 1</text>\n",
       "<text text-anchor=\"middle\" x=\"1159\" y=\"-22.8\" font-family=\"Times,serif\" font-size=\"14.00\">value = [1, 0]</text>\n",
       "<text text-anchor=\"middle\" x=\"1159\" y=\"-7.8\" font-family=\"Times,serif\" font-size=\"14.00\">class = malignant</text>\n",
       "</g>\n",
       "<!-- 18&#45;&gt;20 -->\n",
       "<g id=\"edge20\" class=\"edge\">\n",
       "<title>18&#45;&gt;20</title>\n",
       "<path fill=\"none\" stroke=\"black\" d=\"M1092.02,-88.95C1102.19,-79.62 1113.25,-69.47 1123.4,-60.16\"/>\n",
       "<polygon fill=\"black\" stroke=\"black\" points=\"1125.95,-62.58 1130.95,-53.24 1121.21,-57.42 1125.95,-62.58\"/>\n",
       "</g>\n",
       "<!-- 23 -->\n",
       "<g id=\"node24\" class=\"node\">\n",
       "<title>23</title>\n",
       "<polygon fill=\"#399de5\" stroke=\"black\" points=\"1192,-357.5 1070,-357.5 1070,-304.5 1192,-304.5 1192,-357.5\"/>\n",
       "<text text-anchor=\"middle\" x=\"1131\" y=\"-342.3\" font-family=\"Times,serif\" font-size=\"14.00\">samples = 5</text>\n",
       "<text text-anchor=\"middle\" x=\"1131\" y=\"-327.3\" font-family=\"Times,serif\" font-size=\"14.00\">value = [0, 5]</text>\n",
       "<text text-anchor=\"middle\" x=\"1131\" y=\"-312.3\" font-family=\"Times,serif\" font-size=\"14.00\">class = benign</text>\n",
       "</g>\n",
       "<!-- 22&#45;&gt;23 -->\n",
       "<g id=\"edge23\" class=\"edge\">\n",
       "<title>22&#45;&gt;23</title>\n",
       "<path fill=\"none\" stroke=\"black\" d=\"M1131,-400.88C1131,-390.33 1131,-378.6 1131,-367.85\"/>\n",
       "<polygon fill=\"black\" stroke=\"black\" points=\"1134.5,-367.52 1131,-357.52 1127.5,-367.52 1134.5,-367.52\"/>\n",
       "</g>\n",
       "<!-- 24 -->\n",
       "<g id=\"node25\" class=\"node\">\n",
       "<title>24</title>\n",
       "<polygon fill=\"#e6843d\" stroke=\"black\" points=\"1488.5,-365 1285.5,-365 1285.5,-297 1488.5,-297 1488.5,-365\"/>\n",
       "<text text-anchor=\"middle\" x=\"1387\" y=\"-349.8\" font-family=\"Times,serif\" font-size=\"14.00\">worst concavity &lt;= 0.191</text>\n",
       "<text text-anchor=\"middle\" x=\"1387\" y=\"-334.8\" font-family=\"Times,serif\" font-size=\"14.00\">samples = 137</text>\n",
       "<text text-anchor=\"middle\" x=\"1387\" y=\"-319.8\" font-family=\"Times,serif\" font-size=\"14.00\">value = [134, 3]</text>\n",
       "<text text-anchor=\"middle\" x=\"1387\" y=\"-304.8\" font-family=\"Times,serif\" font-size=\"14.00\">class = malignant</text>\n",
       "</g>\n",
       "<!-- 22&#45;&gt;24 -->\n",
       "<g id=\"edge24\" class=\"edge\">\n",
       "<title>22&#45;&gt;24</title>\n",
       "<path fill=\"none\" stroke=\"black\" d=\"M1214.12,-400.88C1239.73,-390.68 1268.09,-379.38 1294.31,-368.93\"/>\n",
       "<polygon fill=\"black\" stroke=\"black\" points=\"1295.87,-372.08 1303.86,-365.12 1293.28,-365.57 1295.87,-372.08\"/>\n",
       "</g>\n",
       "<!-- 25 -->\n",
       "<g id=\"node26\" class=\"node\">\n",
       "<title>25</title>\n",
       "<polygon fill=\"#bddef6\" stroke=\"black\" points=\"1480,-261 1294,-261 1294,-193 1480,-193 1480,-261\"/>\n",
       "<text text-anchor=\"middle\" x=\"1387\" y=\"-245.8\" font-family=\"Times,serif\" font-size=\"14.00\">mean texture &lt;= 21.35</text>\n",
       "<text text-anchor=\"middle\" x=\"1387\" y=\"-230.8\" font-family=\"Times,serif\" font-size=\"14.00\">samples = 5</text>\n",
       "<text text-anchor=\"middle\" x=\"1387\" y=\"-215.8\" font-family=\"Times,serif\" font-size=\"14.00\">value = [2, 3]</text>\n",
       "<text text-anchor=\"middle\" x=\"1387\" y=\"-200.8\" font-family=\"Times,serif\" font-size=\"14.00\">class = benign</text>\n",
       "</g>\n",
       "<!-- 24&#45;&gt;25 -->\n",
       "<g id=\"edge25\" class=\"edge\">\n",
       "<title>24&#45;&gt;25</title>\n",
       "<path fill=\"none\" stroke=\"black\" d=\"M1387,-296.88C1387,-288.78 1387,-279.98 1387,-271.47\"/>\n",
       "<polygon fill=\"black\" stroke=\"black\" points=\"1390.5,-271.3 1387,-261.3 1383.5,-271.3 1390.5,-271.3\"/>\n",
       "</g>\n",
       "<!-- 28 -->\n",
       "<g id=\"node29\" class=\"node\">\n",
       "<title>28</title>\n",
       "<polygon fill=\"#e58139\" stroke=\"black\" points=\"1643.5,-253.5 1498.5,-253.5 1498.5,-200.5 1643.5,-200.5 1643.5,-253.5\"/>\n",
       "<text text-anchor=\"middle\" x=\"1571\" y=\"-238.3\" font-family=\"Times,serif\" font-size=\"14.00\">samples = 132</text>\n",
       "<text text-anchor=\"middle\" x=\"1571\" y=\"-223.3\" font-family=\"Times,serif\" font-size=\"14.00\">value = [132, 0]</text>\n",
       "<text text-anchor=\"middle\" x=\"1571\" y=\"-208.3\" font-family=\"Times,serif\" font-size=\"14.00\">class = malignant</text>\n",
       "</g>\n",
       "<!-- 24&#45;&gt;28 -->\n",
       "<g id=\"edge28\" class=\"edge\">\n",
       "<title>24&#45;&gt;28</title>\n",
       "<path fill=\"none\" stroke=\"black\" d=\"M1446.74,-296.88C1469.06,-284.51 1494.28,-270.53 1516.14,-258.41\"/>\n",
       "<polygon fill=\"black\" stroke=\"black\" points=\"1517.91,-261.43 1524.96,-253.52 1514.52,-255.31 1517.91,-261.43\"/>\n",
       "</g>\n",
       "<!-- 26 -->\n",
       "<g id=\"node27\" class=\"node\">\n",
       "<title>26</title>\n",
       "<polygon fill=\"#399de5\" stroke=\"black\" points=\"1448,-149.5 1326,-149.5 1326,-96.5 1448,-96.5 1448,-149.5\"/>\n",
       "<text text-anchor=\"middle\" x=\"1387\" y=\"-134.3\" font-family=\"Times,serif\" font-size=\"14.00\">samples = 3</text>\n",
       "<text text-anchor=\"middle\" x=\"1387\" y=\"-119.3\" font-family=\"Times,serif\" font-size=\"14.00\">value = [0, 3]</text>\n",
       "<text text-anchor=\"middle\" x=\"1387\" y=\"-104.3\" font-family=\"Times,serif\" font-size=\"14.00\">class = benign</text>\n",
       "</g>\n",
       "<!-- 25&#45;&gt;26 -->\n",
       "<g id=\"edge26\" class=\"edge\">\n",
       "<title>25&#45;&gt;26</title>\n",
       "<path fill=\"none\" stroke=\"black\" d=\"M1387,-192.88C1387,-182.33 1387,-170.6 1387,-159.85\"/>\n",
       "<polygon fill=\"black\" stroke=\"black\" points=\"1390.5,-159.52 1387,-149.52 1383.5,-159.52 1390.5,-159.52\"/>\n",
       "</g>\n",
       "<!-- 27 -->\n",
       "<g id=\"node28\" class=\"node\">\n",
       "<title>27</title>\n",
       "<polygon fill=\"#e58139\" stroke=\"black\" points=\"1611.5,-149.5 1466.5,-149.5 1466.5,-96.5 1611.5,-96.5 1611.5,-149.5\"/>\n",
       "<text text-anchor=\"middle\" x=\"1539\" y=\"-134.3\" font-family=\"Times,serif\" font-size=\"14.00\">samples = 2</text>\n",
       "<text text-anchor=\"middle\" x=\"1539\" y=\"-119.3\" font-family=\"Times,serif\" font-size=\"14.00\">value = [2, 0]</text>\n",
       "<text text-anchor=\"middle\" x=\"1539\" y=\"-104.3\" font-family=\"Times,serif\" font-size=\"14.00\">class = malignant</text>\n",
       "</g>\n",
       "<!-- 25&#45;&gt;27 -->\n",
       "<g id=\"edge27\" class=\"edge\">\n",
       "<title>25&#45;&gt;27</title>\n",
       "<path fill=\"none\" stroke=\"black\" d=\"M1436.35,-192.88C1454.38,-180.79 1474.7,-167.15 1492.47,-155.22\"/>\n",
       "<polygon fill=\"black\" stroke=\"black\" points=\"1494.62,-158 1500.97,-149.52 1490.72,-152.19 1494.62,-158\"/>\n",
       "</g>\n",
       "</g>\n",
       "</svg>\n"
      ],
      "text/plain": [
       "<graphviz.files.Source at 0x7f2e398f1580>"
      ]
     },
     "execution_count": 24,
     "metadata": {},
     "output_type": "execute_result"
    }
   ],
   "source": [
    "import graphviz  #se lee el archivo tree.dot y se grafica \n",
    "with open(\"tree.dot\") as f:\n",
    " dot_graph = f.read()\n",
    "graphviz.Source(dot_graph)"
   ]
  },
  {
   "cell_type": "markdown",
   "id": "275e05c4-37df-4ea0-b442-037feba4659d",
   "metadata": {},
   "source": [
    "En lugar de mirar todo el árbol, lo que puede resultar agotador, hay algunas propiedades útiles\n",
    "erties que podemos derivar para resumir el funcionamiento del árbol. Lo mas común\n",
    "El resumen utilizado es la importancia de la característica, que califica la importancia de cada característica para\n",
    "la decisión que toma un árbol"
   ]
  },
  {
   "cell_type": "code",
   "execution_count": 25,
   "id": "949f91ba-611e-48b7-b75a-4746e29d35f5",
   "metadata": {},
   "outputs": [
    {
     "name": "stdout",
     "output_type": "stream",
     "text": [
      "Feature importances:\n",
      "[0.         0.01991644 0.         0.         0.01378831 0.\n",
      " 0.         0.         0.         0.         0.0099313  0.04713547\n",
      " 0.         0.00243002 0.00235257 0.         0.         0.\n",
      " 0.         0.         0.70786451 0.03236422 0.         0.00680904\n",
      " 0.         0.         0.01771345 0.1281193  0.01157537 0.        ]\n"
     ]
    }
   ],
   "source": [
    "print(\"Feature importances:\\n{}\".format(tree.feature_importances_))\n"
   ]
  },
  {
   "cell_type": "markdown",
   "id": "bd531c61-2118-43de-840a-f12684b5bcf1",
   "metadata": {},
   "source": [
    "Podemos visualizar la importancia de las características"
   ]
  },
  {
   "cell_type": "code",
   "execution_count": 26,
   "id": "2b0f4f81-1888-4ebf-ae8e-f1f965fae46c",
   "metadata": {},
   "outputs": [
    {
     "data": {
      "image/png": "[encoded data removed]",
      "text/plain": [
       "<Figure size 432x288 with 1 Axes>"
      ]
     },
     "metadata": {},
     "output_type": "display_data"
    }
   ],
   "source": [
    "def plot_feature_importances_cancer(model): #se grafica los datos anteriores \n",
    "    n_features = cancer.data.shape[1]\n",
    "    plt.barh(range(n_features), model.feature_importances_, align='center')\n",
    "    plt.yticks(np.arange(n_features), cancer.feature_names)\n",
    "    plt.xlabel(\"Feature importance\")\n",
    "    plt.ylabel(\"Feature\")\n",
    "plot_feature_importances_cancer(tree)"
   ]
  },
  {
   "cell_type": "code",
   "execution_count": 27,
   "id": "c0f7587b-0a41-4fd8-b7fa-8ec034024dca",
   "metadata": {},
   "outputs": [
    {
     "name": "stdout",
     "output_type": "stream",
     "text": [
      "Feature importances: [0. 1.]\n"
     ]
    },
    {
     "data": {
      "image/svg+xml": [
       "<?xml version=\"1.0\" encoding=\"UTF-8\" standalone=\"no\"?>\n",
       "<!DOCTYPE svg PUBLIC \"-//W3C//DTD SVG 1.1//EN\"\n",
       " \"http://www.w3.org/Graphics/SVG/1.1/DTD/svg11.dtd\">\n",
       "<!-- Generated by graphviz version 2.43.0 (0)\n",
       " -->\n",
       "<!-- Title: Tree Pages: 1 -->\n",
       "<svg width=\"345pt\" height=\"224pt\"\n",
       " viewBox=\"0.00 0.00 345.00 224.00\" xmlns=\"http://www.w3.org/2000/svg\" xmlns:xlink=\"http://www.w3.org/1999/xlink\">\n",
       "<g id=\"graph0\" class=\"graph\" transform=\"scale(1 1) rotate(0) translate(4 220)\">\n",
       "<title>Tree</title>\n",
       "<polygon fill=\"white\" stroke=\"transparent\" points=\"-4,4 -4,-220 341,-220 341,4 -4,4\"/>\n",
       "<!-- 0 -->\n",
       "<g id=\"node1\" class=\"node\">\n",
       "<title>0</title>\n",
       "<polygon fill=\"#ffffff\" stroke=\"black\" points=\"198.5,-216 67.5,-216 67.5,-163 198.5,-163 198.5,-216\"/>\n",
       "<text text-anchor=\"middle\" x=\"133\" y=\"-200.8\" font-family=\"Times,serif\" font-size=\"14.00\">X[1] &lt;= &#45;5.814</text>\n",
       "<text text-anchor=\"middle\" x=\"133\" y=\"-185.8\" font-family=\"Times,serif\" font-size=\"14.00\">samples = 100</text>\n",
       "<text text-anchor=\"middle\" x=\"133\" y=\"-170.8\" font-family=\"Times,serif\" font-size=\"14.00\">value = [50, 50]</text>\n",
       "</g>\n",
       "<!-- 1 -->\n",
       "<g id=\"node2\" class=\"node\">\n",
       "<title>1</title>\n",
       "<polygon fill=\"#e58139\" stroke=\"black\" points=\"122,-119.5 0,-119.5 0,-81.5 122,-81.5 122,-119.5\"/>\n",
       "<text text-anchor=\"middle\" x=\"61\" y=\"-104.3\" font-family=\"Times,serif\" font-size=\"14.00\">samples = 25</text>\n",
       "<text text-anchor=\"middle\" x=\"61\" y=\"-89.3\" font-family=\"Times,serif\" font-size=\"14.00\">value = [25, 0]</text>\n",
       "</g>\n",
       "<!-- 0&#45;&gt;1 -->\n",
       "<g id=\"edge1\" class=\"edge\">\n",
       "<title>0&#45;&gt;1</title>\n",
       "<path fill=\"none\" stroke=\"black\" d=\"M111.79,-162.87C102.51,-151.66 91.64,-138.53 82.35,-127.29\"/>\n",
       "<polygon fill=\"black\" stroke=\"black\" points=\"84.97,-124.98 75.9,-119.51 79.58,-129.44 84.97,-124.98\"/>\n",
       "<text text-anchor=\"middle\" x=\"73.55\" y=\"-140.7\" font-family=\"Times,serif\" font-size=\"14.00\">True</text>\n",
       "</g>\n",
       "<!-- 2 -->\n",
       "<g id=\"node3\" class=\"node\">\n",
       "<title>2</title>\n",
       "<polygon fill=\"#9ccef2\" stroke=\"black\" points=\"271.5,-127 140.5,-127 140.5,-74 271.5,-74 271.5,-127\"/>\n",
       "<text text-anchor=\"middle\" x=\"206\" y=\"-111.8\" font-family=\"Times,serif\" font-size=\"14.00\">X[1] &lt;= 5.348</text>\n",
       "<text text-anchor=\"middle\" x=\"206\" y=\"-96.8\" font-family=\"Times,serif\" font-size=\"14.00\">samples = 75</text>\n",
       "<text text-anchor=\"middle\" x=\"206\" y=\"-81.8\" font-family=\"Times,serif\" font-size=\"14.00\">value = [25, 50]</text>\n",
       "</g>\n",
       "<!-- 0&#45;&gt;2 -->\n",
       "<g id=\"edge2\" class=\"edge\">\n",
       "<title>0&#45;&gt;2</title>\n",
       "<path fill=\"none\" stroke=\"black\" d=\"M154.51,-162.87C161.79,-154.18 170.05,-144.35 177.77,-135.14\"/>\n",
       "<polygon fill=\"black\" stroke=\"black\" points=\"180.65,-137.16 184.39,-127.25 175.28,-132.66 180.65,-137.16\"/>\n",
       "<text text-anchor=\"middle\" x=\"186.57\" y=\"-148.45\" font-family=\"Times,serif\" font-size=\"14.00\">False</text>\n",
       "</g>\n",
       "<!-- 3 -->\n",
       "<g id=\"node4\" class=\"node\">\n",
       "<title>3</title>\n",
       "<polygon fill=\"#399de5\" stroke=\"black\" points=\"197,-38 75,-38 75,0 197,0 197,-38\"/>\n",
       "<text text-anchor=\"middle\" x=\"136\" y=\"-22.8\" font-family=\"Times,serif\" font-size=\"14.00\">samples = 50</text>\n",
       "<text text-anchor=\"middle\" x=\"136\" y=\"-7.8\" font-family=\"Times,serif\" font-size=\"14.00\">value = [0, 50]</text>\n",
       "</g>\n",
       "<!-- 2&#45;&gt;3 -->\n",
       "<g id=\"edge3\" class=\"edge\">\n",
       "<title>2&#45;&gt;3</title>\n",
       "<path fill=\"none\" stroke=\"black\" d=\"M183.47,-73.91C175.55,-64.92 166.66,-54.82 158.73,-45.82\"/>\n",
       "<polygon fill=\"black\" stroke=\"black\" points=\"161.29,-43.43 152.06,-38.24 156.04,-48.06 161.29,-43.43\"/>\n",
       "</g>\n",
       "<!-- 4 -->\n",
       "<g id=\"node5\" class=\"node\">\n",
       "<title>4</title>\n",
       "<polygon fill=\"#e58139\" stroke=\"black\" points=\"337,-38 215,-38 215,0 337,0 337,-38\"/>\n",
       "<text text-anchor=\"middle\" x=\"276\" y=\"-22.8\" font-family=\"Times,serif\" font-size=\"14.00\">samples = 25</text>\n",
       "<text text-anchor=\"middle\" x=\"276\" y=\"-7.8\" font-family=\"Times,serif\" font-size=\"14.00\">value = [25, 0]</text>\n",
       "</g>\n",
       "<!-- 2&#45;&gt;4 -->\n",
       "<g id=\"edge4\" class=\"edge\">\n",
       "<title>2&#45;&gt;4</title>\n",
       "<path fill=\"none\" stroke=\"black\" d=\"M228.53,-73.91C236.45,-64.92 245.34,-54.82 253.27,-45.82\"/>\n",
       "<polygon fill=\"black\" stroke=\"black\" points=\"255.96,-48.06 259.94,-38.24 250.71,-43.43 255.96,-48.06\"/>\n",
       "</g>\n",
       "</g>\n",
       "</svg>\n"
      ],
      "text/plain": [
       "<graphviz.files.Source at 0x7f2e6b7609a0>"
      ]
     },
     "metadata": {},
     "output_type": "display_data"
    },
    {
     "data": {
      "image/png": "[encoded data removed]",
      "text/plain": [
       "<Figure size 432x288 with 1 Axes>"
      ]
     },
     "metadata": {},
     "output_type": "display_data"
    }
   ],
   "source": [
    "tree = mglearn.plots.plot_tree_not_monotone() #otro ejemplo de un arbol, en este se llegana a hojas puras de manera rapida \n",
    "display(tree)"
   ]
  },
  {
   "cell_type": "markdown",
   "id": "a01c3574-5c26-4d76-b27a-29a1f141da5e",
   "metadata": {},
   "source": [
    "# Decision tree Regressor"
   ]
  },
  {
   "cell_type": "code",
   "execution_count": 28,
   "id": "8c7d08b8-b4e7-4a71-8ef1-c1bda4867465",
   "metadata": {},
   "outputs": [
    {
     "ename": "FileNotFoundError",
     "evalue": "[Errno 2] No such file or directory: 'data/ram_price.csv'",
     "output_type": "error",
     "traceback": [
      "\u001b[0;31m---------------------------------------------------------------------------\u001b[0m",
      "\u001b[0;31mFileNotFoundError\u001b[0m                         Traceback (most recent call last)",
      "\u001b[0;32m/tmp/ipykernel_97800/4122346910.py\u001b[0m in \u001b[0;36m<module>\u001b[0;34m\u001b[0m\n\u001b[1;32m      1\u001b[0m \u001b[0;32mimport\u001b[0m \u001b[0mpandas\u001b[0m \u001b[0;32mas\u001b[0m \u001b[0mpd\u001b[0m\u001b[0;34m\u001b[0m\u001b[0;34m\u001b[0m\u001b[0m\n\u001b[0;32m----> 2\u001b[0;31m \u001b[0mram_prices\u001b[0m \u001b[0;34m=\u001b[0m \u001b[0mpd\u001b[0m\u001b[0;34m.\u001b[0m\u001b[0mread_csv\u001b[0m\u001b[0;34m(\u001b[0m\u001b[0;34m\"data/ram_price.csv\"\u001b[0m\u001b[0;34m)\u001b[0m\u001b[0;34m\u001b[0m\u001b[0;34m\u001b[0m\u001b[0m\n\u001b[0m\u001b[1;32m      3\u001b[0m \u001b[0mplt\u001b[0m\u001b[0;34m.\u001b[0m\u001b[0msemilogy\u001b[0m\u001b[0;34m(\u001b[0m\u001b[0mram_prices\u001b[0m\u001b[0;34m.\u001b[0m\u001b[0mdate\u001b[0m\u001b[0;34m,\u001b[0m \u001b[0mram_prices\u001b[0m\u001b[0;34m.\u001b[0m\u001b[0mprice\u001b[0m\u001b[0;34m)\u001b[0m\u001b[0;34m\u001b[0m\u001b[0;34m\u001b[0m\u001b[0m\n\u001b[1;32m      4\u001b[0m \u001b[0mplt\u001b[0m\u001b[0;34m.\u001b[0m\u001b[0mxlabel\u001b[0m\u001b[0;34m(\u001b[0m\u001b[0;34m\"Year\"\u001b[0m\u001b[0;34m)\u001b[0m\u001b[0;34m\u001b[0m\u001b[0;34m\u001b[0m\u001b[0m\n\u001b[1;32m      5\u001b[0m \u001b[0mplt\u001b[0m\u001b[0;34m.\u001b[0m\u001b[0mylabel\u001b[0m\u001b[0;34m(\u001b[0m\u001b[0;34m\"Price in $/Mbyte\"\u001b[0m\u001b[0;34m)\u001b[0m\u001b[0;34m\u001b[0m\u001b[0;34m\u001b[0m\u001b[0m\n",
      "\u001b[0;32m~/.local/lib/python3.8/site-packages/pandas/util/_decorators.py\u001b[0m in \u001b[0;36mwrapper\u001b[0;34m(*args, **kwargs)\u001b[0m\n\u001b[1;32m    309\u001b[0m                     \u001b[0mstacklevel\u001b[0m\u001b[0;34m=\u001b[0m\u001b[0mstacklevel\u001b[0m\u001b[0;34m,\u001b[0m\u001b[0;34m\u001b[0m\u001b[0;34m\u001b[0m\u001b[0m\n\u001b[1;32m    310\u001b[0m                 )\n\u001b[0;32m--> 311\u001b[0;31m             \u001b[0;32mreturn\u001b[0m \u001b[0mfunc\u001b[0m\u001b[0;34m(\u001b[0m\u001b[0;34m*\u001b[0m\u001b[0margs\u001b[0m\u001b[0;34m,\u001b[0m \u001b[0;34m**\u001b[0m\u001b[0mkwargs\u001b[0m\u001b[0;34m)\u001b[0m\u001b[0;34m\u001b[0m\u001b[0;34m\u001b[0m\u001b[0m\n\u001b[0m\u001b[1;32m    312\u001b[0m \u001b[0;34m\u001b[0m\u001b[0m\n\u001b[1;32m    313\u001b[0m         \u001b[0;32mreturn\u001b[0m \u001b[0mwrapper\u001b[0m\u001b[0;34m\u001b[0m\u001b[0;34m\u001b[0m\u001b[0m\n",
      "\u001b[0;32m~/.local/lib/python3.8/site-packages/pandas/io/parsers/readers.py\u001b[0m in \u001b[0;36mread_csv\u001b[0;34m(filepath_or_buffer, sep, delimiter, header, names, index_col, usecols, squeeze, prefix, mangle_dupe_cols, dtype, engine, converters, true_values, false_values, skipinitialspace, skiprows, skipfooter, nrows, na_values, keep_default_na, na_filter, verbose, skip_blank_lines, parse_dates, infer_datetime_format, keep_date_col, date_parser, dayfirst, cache_dates, iterator, chunksize, compression, thousands, decimal, lineterminator, quotechar, quoting, doublequote, escapechar, comment, encoding, encoding_errors, dialect, error_bad_lines, warn_bad_lines, on_bad_lines, delim_whitespace, low_memory, memory_map, float_precision, storage_options)\u001b[0m\n\u001b[1;32m    584\u001b[0m     \u001b[0mkwds\u001b[0m\u001b[0;34m.\u001b[0m\u001b[0mupdate\u001b[0m\u001b[0;34m(\u001b[0m\u001b[0mkwds_defaults\u001b[0m\u001b[0;34m)\u001b[0m\u001b[0;34m\u001b[0m\u001b[0;34m\u001b[0m\u001b[0m\n\u001b[1;32m    585\u001b[0m \u001b[0;34m\u001b[0m\u001b[0m\n\u001b[0;32m--> 586\u001b[0;31m     \u001b[0;32mreturn\u001b[0m \u001b[0m_read\u001b[0m\u001b[0;34m(\u001b[0m\u001b[0mfilepath_or_buffer\u001b[0m\u001b[0;34m,\u001b[0m \u001b[0mkwds\u001b[0m\u001b[0;34m)\u001b[0m\u001b[0;34m\u001b[0m\u001b[0;34m\u001b[0m\u001b[0m\n\u001b[0m\u001b[1;32m    587\u001b[0m \u001b[0;34m\u001b[0m\u001b[0m\n\u001b[1;32m    588\u001b[0m \u001b[0;34m\u001b[0m\u001b[0m\n",
      "\u001b[0;32m~/.local/lib/python3.8/site-packages/pandas/io/parsers/readers.py\u001b[0m in \u001b[0;36m_read\u001b[0;34m(filepath_or_buffer, kwds)\u001b[0m\n\u001b[1;32m    480\u001b[0m \u001b[0;34m\u001b[0m\u001b[0m\n\u001b[1;32m    481\u001b[0m     \u001b[0;31m# Create the parser.\u001b[0m\u001b[0;34m\u001b[0m\u001b[0;34m\u001b[0m\u001b[0;34m\u001b[0m\u001b[0m\n\u001b[0;32m--> 482\u001b[0;31m     \u001b[0mparser\u001b[0m \u001b[0;34m=\u001b[0m \u001b[0mTextFileReader\u001b[0m\u001b[0;34m(\u001b[0m\u001b[0mfilepath_or_buffer\u001b[0m\u001b[0;34m,\u001b[0m \u001b[0;34m**\u001b[0m\u001b[0mkwds\u001b[0m\u001b[0;34m)\u001b[0m\u001b[0;34m\u001b[0m\u001b[0;34m\u001b[0m\u001b[0m\n\u001b[0m\u001b[1;32m    483\u001b[0m \u001b[0;34m\u001b[0m\u001b[0m\n\u001b[1;32m    484\u001b[0m     \u001b[0;32mif\u001b[0m \u001b[0mchunksize\u001b[0m \u001b[0;32mor\u001b[0m \u001b[0miterator\u001b[0m\u001b[0;34m:\u001b[0m\u001b[0;34m\u001b[0m\u001b[0;34m\u001b[0m\u001b[0m\n",
      "\u001b[0;32m~/.local/lib/python3.8/site-packages/pandas/io/parsers/readers.py\u001b[0m in \u001b[0;36m__init__\u001b[0;34m(self, f, engine, **kwds)\u001b[0m\n\u001b[1;32m    809\u001b[0m             \u001b[0mself\u001b[0m\u001b[0;34m.\u001b[0m\u001b[0moptions\u001b[0m\u001b[0;34m[\u001b[0m\u001b[0;34m\"has_index_names\"\u001b[0m\u001b[0;34m]\u001b[0m \u001b[0;34m=\u001b[0m \u001b[0mkwds\u001b[0m\u001b[0;34m[\u001b[0m\u001b[0;34m\"has_index_names\"\u001b[0m\u001b[0;34m]\u001b[0m\u001b[0;34m\u001b[0m\u001b[0;34m\u001b[0m\u001b[0m\n\u001b[1;32m    810\u001b[0m \u001b[0;34m\u001b[0m\u001b[0m\n\u001b[0;32m--> 811\u001b[0;31m         \u001b[0mself\u001b[0m\u001b[0;34m.\u001b[0m\u001b[0m_engine\u001b[0m \u001b[0;34m=\u001b[0m \u001b[0mself\u001b[0m\u001b[0;34m.\u001b[0m\u001b[0m_make_engine\u001b[0m\u001b[0;34m(\u001b[0m\u001b[0mself\u001b[0m\u001b[0;34m.\u001b[0m\u001b[0mengine\u001b[0m\u001b[0;34m)\u001b[0m\u001b[0;34m\u001b[0m\u001b[0;34m\u001b[0m\u001b[0m\n\u001b[0m\u001b[1;32m    812\u001b[0m \u001b[0;34m\u001b[0m\u001b[0m\n\u001b[1;32m    813\u001b[0m     \u001b[0;32mdef\u001b[0m \u001b[0mclose\u001b[0m\u001b[0;34m(\u001b[0m\u001b[0mself\u001b[0m\u001b[0;34m)\u001b[0m\u001b[0;34m:\u001b[0m\u001b[0;34m\u001b[0m\u001b[0;34m\u001b[0m\u001b[0m\n",
      "\u001b[0;32m~/.local/lib/python3.8/site-packages/pandas/io/parsers/readers.py\u001b[0m in \u001b[0;36m_make_engine\u001b[0;34m(self, engine)\u001b[0m\n\u001b[1;32m   1038\u001b[0m             )\n\u001b[1;32m   1039\u001b[0m         \u001b[0;31m# error: Too many arguments for \"ParserBase\"\u001b[0m\u001b[0;34m\u001b[0m\u001b[0;34m\u001b[0m\u001b[0;34m\u001b[0m\u001b[0m\n\u001b[0;32m-> 1040\u001b[0;31m         \u001b[0;32mreturn\u001b[0m \u001b[0mmapping\u001b[0m\u001b[0;34m[\u001b[0m\u001b[0mengine\u001b[0m\u001b[0;34m]\u001b[0m\u001b[0;34m(\u001b[0m\u001b[0mself\u001b[0m\u001b[0;34m.\u001b[0m\u001b[0mf\u001b[0m\u001b[0;34m,\u001b[0m \u001b[0;34m**\u001b[0m\u001b[0mself\u001b[0m\u001b[0;34m.\u001b[0m\u001b[0moptions\u001b[0m\u001b[0;34m)\u001b[0m  \u001b[0;31m# type: ignore[call-arg]\u001b[0m\u001b[0;34m\u001b[0m\u001b[0;34m\u001b[0m\u001b[0m\n\u001b[0m\u001b[1;32m   1041\u001b[0m \u001b[0;34m\u001b[0m\u001b[0m\n\u001b[1;32m   1042\u001b[0m     \u001b[0;32mdef\u001b[0m \u001b[0m_failover_to_python\u001b[0m\u001b[0;34m(\u001b[0m\u001b[0mself\u001b[0m\u001b[0;34m)\u001b[0m\u001b[0;34m:\u001b[0m\u001b[0;34m\u001b[0m\u001b[0;34m\u001b[0m\u001b[0m\n",
      "\u001b[0;32m~/.local/lib/python3.8/site-packages/pandas/io/parsers/c_parser_wrapper.py\u001b[0m in \u001b[0;36m__init__\u001b[0;34m(self, src, **kwds)\u001b[0m\n\u001b[1;32m     49\u001b[0m \u001b[0;34m\u001b[0m\u001b[0m\n\u001b[1;32m     50\u001b[0m         \u001b[0;31m# open handles\u001b[0m\u001b[0;34m\u001b[0m\u001b[0;34m\u001b[0m\u001b[0;34m\u001b[0m\u001b[0m\n\u001b[0;32m---> 51\u001b[0;31m         \u001b[0mself\u001b[0m\u001b[0;34m.\u001b[0m\u001b[0m_open_handles\u001b[0m\u001b[0;34m(\u001b[0m\u001b[0msrc\u001b[0m\u001b[0;34m,\u001b[0m \u001b[0mkwds\u001b[0m\u001b[0;34m)\u001b[0m\u001b[0;34m\u001b[0m\u001b[0;34m\u001b[0m\u001b[0m\n\u001b[0m\u001b[1;32m     52\u001b[0m         \u001b[0;32massert\u001b[0m \u001b[0mself\u001b[0m\u001b[0;34m.\u001b[0m\u001b[0mhandles\u001b[0m \u001b[0;32mis\u001b[0m \u001b[0;32mnot\u001b[0m \u001b[0;32mNone\u001b[0m\u001b[0;34m\u001b[0m\u001b[0;34m\u001b[0m\u001b[0m\n\u001b[1;32m     53\u001b[0m \u001b[0;34m\u001b[0m\u001b[0m\n",
      "\u001b[0;32m~/.local/lib/python3.8/site-packages/pandas/io/parsers/base_parser.py\u001b[0m in \u001b[0;36m_open_handles\u001b[0;34m(self, src, kwds)\u001b[0m\n\u001b[1;32m    220\u001b[0m         \u001b[0mLet\u001b[0m \u001b[0mthe\u001b[0m \u001b[0mreaders\u001b[0m \u001b[0mopen\u001b[0m \u001b[0mIOHandles\u001b[0m \u001b[0mafter\u001b[0m \u001b[0mthey\u001b[0m \u001b[0mare\u001b[0m \u001b[0mdone\u001b[0m \u001b[0;32mwith\u001b[0m \u001b[0mtheir\u001b[0m \u001b[0mpotential\u001b[0m \u001b[0mraises\u001b[0m\u001b[0;34m.\u001b[0m\u001b[0;34m\u001b[0m\u001b[0;34m\u001b[0m\u001b[0m\n\u001b[1;32m    221\u001b[0m         \"\"\"\n\u001b[0;32m--> 222\u001b[0;31m         self.handles = get_handle(\n\u001b[0m\u001b[1;32m    223\u001b[0m             \u001b[0msrc\u001b[0m\u001b[0;34m,\u001b[0m\u001b[0;34m\u001b[0m\u001b[0;34m\u001b[0m\u001b[0m\n\u001b[1;32m    224\u001b[0m             \u001b[0;34m\"r\"\u001b[0m\u001b[0;34m,\u001b[0m\u001b[0;34m\u001b[0m\u001b[0;34m\u001b[0m\u001b[0m\n",
      "\u001b[0;32m~/.local/lib/python3.8/site-packages/pandas/io/common.py\u001b[0m in \u001b[0;36mget_handle\u001b[0;34m(path_or_buf, mode, encoding, compression, memory_map, is_text, errors, storage_options)\u001b[0m\n\u001b[1;32m    699\u001b[0m         \u001b[0;32mif\u001b[0m \u001b[0mioargs\u001b[0m\u001b[0;34m.\u001b[0m\u001b[0mencoding\u001b[0m \u001b[0;32mand\u001b[0m \u001b[0;34m\"b\"\u001b[0m \u001b[0;32mnot\u001b[0m \u001b[0;32min\u001b[0m \u001b[0mioargs\u001b[0m\u001b[0;34m.\u001b[0m\u001b[0mmode\u001b[0m\u001b[0;34m:\u001b[0m\u001b[0;34m\u001b[0m\u001b[0;34m\u001b[0m\u001b[0m\n\u001b[1;32m    700\u001b[0m             \u001b[0;31m# Encoding\u001b[0m\u001b[0;34m\u001b[0m\u001b[0;34m\u001b[0m\u001b[0;34m\u001b[0m\u001b[0m\n\u001b[0;32m--> 701\u001b[0;31m             handle = open(\n\u001b[0m\u001b[1;32m    702\u001b[0m                 \u001b[0mhandle\u001b[0m\u001b[0;34m,\u001b[0m\u001b[0;34m\u001b[0m\u001b[0;34m\u001b[0m\u001b[0m\n\u001b[1;32m    703\u001b[0m                 \u001b[0mioargs\u001b[0m\u001b[0;34m.\u001b[0m\u001b[0mmode\u001b[0m\u001b[0;34m,\u001b[0m\u001b[0;34m\u001b[0m\u001b[0;34m\u001b[0m\u001b[0m\n",
      "\u001b[0;31mFileNotFoundError\u001b[0m: [Errno 2] No such file or directory: 'data/ram_price.csv'"
     ]
    }
   ],
   "source": [
    "import pandas as pd\n",
    "ram_prices = pd.read_csv(\"data/ram_price.csv\")\n",
    "plt.semilogy(ram_prices.date, ram_prices.price)\n",
    "plt.xlabel(\"Year\")\n",
    "plt.ylabel(\"Price in $/Mbyte\")"
   ]
  },
  {
   "cell_type": "code",
   "execution_count": null,
   "id": "1e578153-7b25-431f-8a43-4c6f25fda5b7",
   "metadata": {},
   "outputs": [],
   "source": [
    "from sklearn.tree import DecisionTreeRegressor\n",
    "from sklearn.linear_model import LinearRegression\n",
    "\n",
    "# use historical data to forecast prices after the year 2000\n",
    "data_train = ram_prices[ram_prices.date < 2000]\n",
    "data_test = ram_prices[ram_prices.date >= 2000]\n",
    "\n",
    "X_train = np.reshape(data_train.date.values, (-1, 1)) #nuestros datos de -1 a 1 \n",
    "\n",
    "# we use a log-transform to get a simpler relationship of data to target\n",
    "y_train = np.log(data_train.price)\n",
    "\n",
    "tree = DecisionTreeRegressor().fit(X_train, y_train)\n",
    "linear_reg = LinearRegression().fit(X_train, y_train)\n",
    "\n",
    "#predict all data\n",
    "X_all = np.reshape(ram_prices.date.values, (-1, 1)) #\n",
    "\n",
    "pred_tree = tree.predict(X_all)\n",
    "pred_lr = linear_reg.predict(X_all)\n",
    "\n",
    "# undo log-transform\n",
    "price_tree = np.exp(pred_tree)\n",
    "price_lr = np.exp(pred_lr)"
   ]
  },
  {
   "cell_type": "code",
   "execution_count": null,
   "id": "9f5ad4a6-48ba-41df-9d30-15489ae11263",
   "metadata": {},
   "outputs": [],
   "source": [
    "\n",
    "plt.semilogy(data_train.date, data_train.price, label=\"Training data\")\n",
    "plt.semilogy(data_test.date, data_test.price, label=\"Test data\")\n",
    "plt.semilogy(ram_prices.date, price_tree, label=\"Tree prediction\")\n",
    "plt.semilogy(ram_prices.date, price_lr, label=\"Linear prediction\")\n",
    "plt.legend()"
   ]
  },
  {
   "cell_type": "markdown",
   "id": "d7b44f98-5e08-4dab-af6d-176e1097f098",
   "metadata": {},
   "source": [
    "# Random Forest: clasificación de las lunas (dataset: two_moons)"
   ]
  },
  {
   "cell_type": "code",
   "execution_count": null,
   "id": "d67be259-c7d6-4f28-a050-18e48efd16cf",
   "metadata": {},
   "outputs": [],
   "source": [
    "\n",
    "#el siguiente random forest consiste en 5 árboles\n",
    "from sklearn.ensemble import RandomForestClassifier\n",
    "from sklearn.datasets import make_moons\n",
    "\n",
    "#se tomará una muestra de 100 datos\n",
    "X, y = make_moons(n_samples=100, noise=0.25, random_state=3)\n",
    "X_train, X_test, y_train, y_test = train_test_split(X, y, stratify=y,\n",
    " random_state=42)\n",
    "\n",
    "#se construirán 5 árboles\n",
    "forest = RandomForestClassifier(n_estimaload_breast_cancertors=5, random_state=2)\n",
    "forest.fit(X_train, y_train)load_breast_cancer"
   ]
  },
  {
   "cell_type": "code",
   "execution_count": null,
   "id": "7099d4ac-dc10-4771-bc97-2a77ec51e5a8",
   "metadata": {},
   "outputs": [],
   "source": [
    "fig, axes = plt.subplots(2, 3, figsize=(20, 10))\n",
    "for i, (ax, tree) in enumerate(zip(axes.ravel(), forest.estimators_)):\n",
    "    ax.set_title(\"Tree {}\".format(i))\n",
    "    mglearn.plots.plot_tree_partition(X_train, y_train, tree, ax=ax)\n",
    "mglearn.plots.plot_2d_separator(forest, X_train, fill=True, ax=axes[-1, -1],\n",
    "alpha=.4)\n",
    "axes[-1, -1].set_title(\"Random Forest\")\n",
    "mglearn.discrete_scatter(X_train[:, 0], X_train[:, 1], y_train)"
   ]
  },
  {
   "cell_type": "markdown",
   "id": "fc866a2d-5d72-4249-9ac9-e6f77d83bf68",
   "metadata": {},
   "source": [
    "# Random forest: clasificación de tumores (dataset: cancer)"
   ]
  },
  {
   "cell_type": "code",
   "execution_count": 32,
   "id": "dbcee460-007f-472a-84e5-48ba42367227",
   "metadata": {},
   "outputs": [
    {
     "name": "stdout",
     "output_type": "stream",
     "text": [
      "Accuracy on training set: 1.000\n",
      "Accuracy on test set: 0.965\n"
     ]
    }
   ],
   "source": [
    "from sklearn.ensemble import RandomForestClassifier\n",
    "X_train, X_test, y_train, y_test = train_test_split(\n",
    " cancer.data, cancer.target, random_state=0)\n",
    "forest = RandomForestClassifier(n_estimators=75, random_state=0)\n",
    "forest.fit(X_train, y_train)\n",
    "print(\"Accuracy on training set: {:.3f}\".format(forest.score(X_train, y_train)))\n",
    "print(\"Accuracy on test set: {:.3f}\".format(forest.score(X_test, y_test)))"
   ]
  },
  {
   "cell_type": "code",
   "execution_count": 33,
   "id": "3d525d55-9c18-4780-a930-02f344c520b3",
   "metadata": {},
   "outputs": [
    {
     "data": {
      "image/png": "[encoded data removed]",
      "text/plain": [
       "<Figure size 432x288 with 1 Axes>"
      ]
     },
     "metadata": {},
     "output_type": "display_data"
    }
   ],
   "source": [
    "plot_feature_importances_cancer(forest)"
   ]
  },
  {
   "cell_type": "markdown",
   "id": "15e70353-b311-4680-a781-132671742333",
   "metadata": {},
   "source": [
    "# Gradient boosted regression trees\n"
   ]
  },
  {
   "cell_type": "code",
   "execution_count": null,
   "id": "d21c7f01-6b1f-4fcc-ba54-c87028d6ed03",
   "metadata": {},
   "outputs": [],
   "source": [
    "from sklearn.ensemble import GradientBoostingClassifier\n",
    "X_train, X_test, y_train, y_test = train_test_split(\n",
    "cancer.data, cancer.target, random_state=0)\n",
    "gbrt = GradientBoostingClassifier(random_state=0)\n",
    "gbrt.fit(X_train, y_train)\n",
    "print(\"Accuracy on training set: {:.3f}\".format(gbrt.score(X_train, y_train)))\n",
    "print(\"Accuracy on test set: {:.3f}\".format(gbrt.score(X_test, y_test)))"
   ]
  },
  {
   "cell_type": "markdown",
   "id": "efc76fcd-0514-436b-b0b4-9616f77dcdf4",
   "metadata": {},
   "source": [
    "Modificando la variable max_depth"
   ]
  },
  {
   "cell_type": "code",
   "execution_count": null,
   "id": "d25783f6-5464-4501-8071-07c073b7589b",
   "metadata": {},
   "outputs": [],
   "source": [
    "gbrt = GradientBoostingClassifier(random_state=0, max_depth=1)\n",
    "gbrt.fit(X_train, y_train)\n",
    "print(\"Accuracy on training set: {:.3f}\".format(gbrt.score(X_train, y_train)))\n",
    "print(\"Accuracy on test set: {:.3f}\".format(gbrt.score(X_test, y_test)))"
   ]
  },
  {
   "cell_type": "markdown",
   "id": "7bb8cd30-bf15-45e2-bc5a-9b4165d451fd",
   "metadata": {},
   "source": [
    "----Modificando la variable learning_rate"
   ]
  },
  {
   "cell_type": "code",
   "execution_count": null,
   "id": "aad6ee16-528c-4a88-a1eb-826f7dcb22e6",
   "metadata": {},
   "outputs": [],
   "source": [
    "gbrt = GradientBoostingClassifier(random_state=0, learning_rate=0.01)\n",
    "gbrt.fit(X_train, y_train)\n",
    "print(\"Accuracy on training set: {:.3f}\".format(gbrt.score(X_train, y_train)))\n",
    "print(\"Accuracy on test set: {:.3f}\".format(gbrt.score(X_test, y_test)))\n"
   ]
  },
  {
   "cell_type": "code",
   "execution_count": null,
   "id": "90f6ac21-0c14-4348-aef4-8ed8e55f1b5a",
   "metadata": {},
   "outputs": [],
   "source": [
    "gbrt = GradientBoostingClassifier(random_state=0, max_depth=1)\n",
    "gbrt.fit(X_train, y_train)\n",
    "plot_feature_importances_cancer(gbrt)"
   ]
  }
 ],
 "metadata": {
  "kernelspec": {
   "display_name": "Python 3 (ipykernel)",
   "language": "python",
   "name": "python3"
  },
  "language_info": {
   "codemirror_mode": {
    "name": "ipython",
    "version": 3
   },
   "file_extension": ".py",
   "mimetype": "text/x-python",
   "name": "python",
   "nbconvert_exporter": "python",
   "pygments_lexer": "ipython3",
   "version": "3.8.10"
  }
 },
 "nbformat": 4,
 "nbformat_minor": 5
}

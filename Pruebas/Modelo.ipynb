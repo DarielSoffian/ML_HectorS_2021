{
 "cells": [
  {
   "cell_type": "code",
   "execution_count": 1,
   "id": "b92025c7-5b8d-4afc-844a-0f7150d499b4",
   "metadata": {},
   "outputs": [
    {
     "name": "stderr",
     "output_type": "stream",
     "text": [
      "2021-12-14 03:28:38.428334: W tensorflow/stream_executor/platform/default/dso_loader.cc:64] Could not load dynamic library 'libcudart.so.11.0'; dlerror: libcudart.so.11.0: cannot open shared object file: No such file or directory\n",
      "2021-12-14 03:28:38.428349: I tensorflow/stream_executor/cuda/cudart_stub.cc:29] Ignore above cudart dlerror if you do not have a GPU set up on your machine.\n"
     ]
    }
   ],
   "source": [
    "import tensorflow as tf\n",
    "import numpy as np\n",
    "from tensorflow.keras.models import Sequential\n",
    "from tensorflow.keras.layers import Dense, Dropout, Activation, Flatten, Conv2D, MaxPooling2D\n",
    "import pickle\n",
    "\n",
    "X = pickle.load(open(\"X.pickle\",\"rb\"))\n",
    "y = pickle.load(open(\"y.pickle\",\"rb\"))\n",
    "y=np.array(y)\n",
    "\n",
    "X=X/255.0"
   ]
  },
  {
   "cell_type": "code",
   "execution_count": 2,
   "id": "a98c35e8-655a-4129-b374-5e7ce3c35d27",
   "metadata": {},
   "outputs": [
    {
     "name": "stdout",
     "output_type": "stream",
     "text": [
      "(64, 64, 1)\n"
     ]
    }
   ],
   "source": [
    "print(X.shape[1:])"
   ]
  },
  {
   "cell_type": "code",
   "execution_count": 7,
   "id": "05bb5fd4-3c48-44c4-9420-fd083c8b2083",
   "metadata": {},
   "outputs": [
    {
     "name": "stdout",
     "output_type": "stream",
     "text": [
      "Epoch 1/7\n",
      "23/23 [==============================] - 2s 87ms/step - loss: 0.7214 - accuracy: 0.5306 - val_loss: 0.6856 - val_accuracy: 0.5732\n",
      "Epoch 2/7\n",
      "23/23 [==============================] - 2s 81ms/step - loss: 0.6497 - accuracy: 0.6354 - val_loss: 0.6453 - val_accuracy: 0.6098\n",
      "Epoch 3/7\n",
      "23/23 [==============================] - 2s 78ms/step - loss: 0.5787 - accuracy: 0.6871 - val_loss: 0.6591 - val_accuracy: 0.5976\n",
      "Epoch 4/7\n",
      "23/23 [==============================] - 2s 82ms/step - loss: 0.5327 - accuracy: 0.7293 - val_loss: 0.6706 - val_accuracy: 0.6585\n",
      "Epoch 5/7\n",
      "23/23 [==============================] - 2s 83ms/step - loss: 0.4769 - accuracy: 0.7605 - val_loss: 0.5955 - val_accuracy: 0.5976\n",
      "Epoch 6/7\n",
      "23/23 [==============================] - 2s 81ms/step - loss: 0.4255 - accuracy: 0.7891 - val_loss: 0.5446 - val_accuracy: 0.6585\n",
      "Epoch 7/7\n",
      "23/23 [==============================] - 2s 83ms/step - loss: 0.3803 - accuracy: 0.8408 - val_loss: 0.5503 - val_accuracy: 0.6707\n"
     ]
    },
    {
     "data": {
      "text/plain": [
       "<keras.callbacks.History at 0x7f9a9c207520>"
      ]
     },
     "execution_count": 7,
     "metadata": {},
     "output_type": "execute_result"
    }
   ],
   "source": [
    "model = Sequential()\n",
    "\n",
    "model.add(Conv2D(64, (3,3), input_shape = X.shape[1:]))\n",
    "model.add(Activation(\"relu\"))\n",
    "model.add(MaxPooling2D(pool_size=(2,2)))\n",
    "          \n",
    "model.add(Conv2D(64, (3,3)))\n",
    "model.add(Activation(\"relu\"))\n",
    "model.add(MaxPooling2D(pool_size=(2,2)))\n",
    "                    \n",
    "model.add(Flatten())\n",
    "model.add(Dense(64))\n",
    "                    \n",
    "model.add(Dense(1))\n",
    "model.add(Activation('sigmoid'))\n",
    "                    \n",
    "          \n",
    "model.compile(loss=\"binary_crossentropy\",\n",
    "              optimizer=\"adam\",\n",
    "              metrics=['accuracy'])\n",
    "          \n",
    "model.fit(X, y, batch_size=32, epochs=7, validation_split=0.1)\n",
    "          \n"
   ]
  },
  {
   "cell_type": "code",
   "execution_count": null,
   "id": "4f7c05ff-987e-428e-a35c-24fb6e080756",
   "metadata": {},
   "outputs": [],
   "source": []
  }
 ],
 "metadata": {
  "kernelspec": {
   "display_name": "Python 3 (ipykernel)",
   "language": "python",
   "name": "python3"
  },
  "language_info": {
   "codemirror_mode": {
    "name": "ipython",
    "version": 3
   },
   "file_extension": ".py",
   "mimetype": "text/x-python",
   "name": "python",
   "nbconvert_exporter": "python",
   "pygments_lexer": "ipython3",
   "version": "3.8.10"
  }
 },
 "nbformat": 4,
 "nbformat_minor": 5
}
